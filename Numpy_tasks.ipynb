{
  "cells": [
    {
      "cell_type": "markdown",
      "metadata": {
        "id": "view-in-github",
        "colab_type": "text"
      },
      "source": [
        "<a href=\"https://colab.research.google.com/github/Ramyavenkatrajulu/Ramyavenkatrajulu/blob/main/Numpy_tasks.ipynb\" target=\"_parent\"><img src=\"https://colab.research.google.com/assets/colab-badge.svg\" alt=\"Open In Colab\"/></a>"
      ]
    },
    {
      "cell_type": "markdown",
      "metadata": {
        "id": "LzdibDLn93aD"
      },
      "source": [
        "# Numpy\n",
        "\n"
      ]
    },
    {
      "cell_type": "markdown",
      "metadata": {
        "id": "lyQFCmDW93aP"
      },
      "source": [
        "#### 1. Import the numpy package under the name `np` (★☆☆) \n",
        "(**hint**: import … as …)"
      ]
    },
    {
      "cell_type": "code",
      "execution_count": null,
      "metadata": {
        "collapsed": true,
        "id": "ZoO7U0vF93aR"
      },
      "outputs": [],
      "source": [
        "import numpy as np"
      ]
    },
    {
      "cell_type": "markdown",
      "metadata": {
        "id": "XA5l5lU-93aT"
      },
      "source": [
        "#### 2. Print the numpy version and the configuration (★☆☆) \n",
        "(**hint**: np.\\_\\_version\\_\\_, np.show\\_config)"
      ]
    },
    {
      "cell_type": "code",
      "execution_count": null,
      "metadata": {
        "id": "ip4DrDH293aV",
        "colab": {
          "base_uri": "https://localhost:8080/"
        },
        "outputId": "0cb52682-d3a7-4262-baae-3549eb396542"
      },
      "outputs": [
        {
          "output_type": "execute_result",
          "data": {
            "text/plain": [
              "(<module 'numpy.version' from '/usr/local/lib/python3.7/dist-packages/numpy/version.py'>,\n",
              " <function numpy.__config__.show>)"
            ]
          },
          "metadata": {},
          "execution_count": 3
        }
      ],
      "source": [
        "import numpy as np\n",
        "np.version,np.show_config\n"
      ]
    },
    {
      "cell_type": "markdown",
      "metadata": {
        "id": "4c8XWpfd93aV"
      },
      "source": [
        "#### 3. Create a null vector of size 10 (★☆☆) \n",
        "(**hint**: np.zeros)"
      ]
    },
    {
      "cell_type": "code",
      "execution_count": null,
      "metadata": {
        "id": "jOMGXwjG93aX",
        "colab": {
          "base_uri": "https://localhost:8080/"
        },
        "outputId": "be6fd061-7220-4e1b-cf0a-ecf0e9d279e7"
      },
      "outputs": [
        {
          "output_type": "execute_result",
          "data": {
            "text/plain": [
              "array([0., 0., 0., 0., 0., 0., 0., 0., 0., 0.])"
            ]
          },
          "metadata": {},
          "execution_count": 4
        }
      ],
      "source": [
        "np.zeros(10)"
      ]
    },
    {
      "cell_type": "markdown",
      "metadata": {
        "id": "glJy1giY93aZ"
      },
      "source": [
        "#### 4.  How to find the memory size of any array (★☆☆) \n",
        "(**hint**: size, itemsize)"
      ]
    },
    {
      "cell_type": "code",
      "execution_count": null,
      "metadata": {
        "id": "hGPRmUYc93ab",
        "colab": {
          "base_uri": "https://localhost:8080/"
        },
        "outputId": "1db51a76-1ee0-4ac7-d1a2-4290c196e94e"
      },
      "outputs": [
        {
          "output_type": "execute_result",
          "data": {
            "text/plain": [
              "(10, 8)"
            ]
          },
          "metadata": {},
          "execution_count": 5
        }
      ],
      "source": [
        "a = np.array([[1,2,3,3,4],[2,3,4,5,6]])\n",
        "a.size, a.itemsize"
      ]
    },
    {
      "cell_type": "markdown",
      "metadata": {
        "id": "L0zALRQw93ac"
      },
      "source": [
        "#### 5.  How to get the documentation of the numpy add function from the command line? (★☆☆) \n",
        "(**hint**: np.info)"
      ]
    },
    {
      "cell_type": "code",
      "execution_count": null,
      "metadata": {
        "collapsed": true,
        "id": "MUmoP0wf93ad",
        "colab": {
          "base_uri": "https://localhost:8080/"
        },
        "outputId": "2c3e18b7-e018-4d63-eec0-7557cc79951f"
      },
      "outputs": [
        {
          "output_type": "stream",
          "name": "stdout",
          "text": [
            "add(x1, x2, /, out=None, *, where=True, casting='same_kind', order='K', dtype=None, subok=True[, signature, extobj])\n",
            "\n",
            "Add arguments element-wise.\n",
            "\n",
            "Parameters\n",
            "----------\n",
            "x1, x2 : array_like\n",
            "    The arrays to be added.\n",
            "    If ``x1.shape != x2.shape``, they must be broadcastable to a common\n",
            "    shape (which becomes the shape of the output).\n",
            "out : ndarray, None, or tuple of ndarray and None, optional\n",
            "    A location into which the result is stored. If provided, it must have\n",
            "    a shape that the inputs broadcast to. If not provided or None,\n",
            "    a freshly-allocated array is returned. A tuple (possible only as a\n",
            "    keyword argument) must have length equal to the number of outputs.\n",
            "where : array_like, optional\n",
            "    This condition is broadcast over the input. At locations where the\n",
            "    condition is True, the `out` array will be set to the ufunc result.\n",
            "    Elsewhere, the `out` array will retain its original value.\n",
            "    Note that if an uninitialized `out` array is created via the default\n",
            "    ``out=None``, locations within it where the condition is False will\n",
            "    remain uninitialized.\n",
            "**kwargs\n",
            "    For other keyword-only arguments, see the\n",
            "    :ref:`ufunc docs <ufuncs.kwargs>`.\n",
            "\n",
            "Returns\n",
            "-------\n",
            "add : ndarray or scalar\n",
            "    The sum of `x1` and `x2`, element-wise.\n",
            "    This is a scalar if both `x1` and `x2` are scalars.\n",
            "\n",
            "Notes\n",
            "-----\n",
            "Equivalent to `x1` + `x2` in terms of array broadcasting.\n",
            "\n",
            "Examples\n",
            "--------\n",
            ">>> np.add(1.0, 4.0)\n",
            "5.0\n",
            ">>> x1 = np.arange(9.0).reshape((3, 3))\n",
            ">>> x2 = np.arange(3.0)\n",
            ">>> np.add(x1, x2)\n",
            "array([[  0.,   2.,   4.],\n",
            "       [  3.,   5.,   7.],\n",
            "       [  6.,   8.,  10.]])\n",
            "\n",
            "The ``+`` operator can be used as a shorthand for ``np.add`` on ndarrays.\n",
            "\n",
            ">>> x1 = np.arange(9.0).reshape((3, 3))\n",
            ">>> x2 = np.arange(3.0)\n",
            ">>> x1 + x2\n",
            "array([[ 0.,  2.,  4.],\n",
            "       [ 3.,  5.,  7.],\n",
            "       [ 6.,  8., 10.]])\n"
          ]
        }
      ],
      "source": [
        "np.info(np.add)"
      ]
    },
    {
      "cell_type": "markdown",
      "metadata": {
        "id": "FFp_ATfI93ae"
      },
      "source": [
        "#### 6.  Create a null vector of size 10 but the fifth value which is 1 (★☆☆) \n",
        "(**hint**: array\\[4\\])"
      ]
    },
    {
      "cell_type": "code",
      "execution_count": null,
      "metadata": {
        "id": "slH38EJb93af",
        "colab": {
          "base_uri": "https://localhost:8080/"
        },
        "outputId": "6f90ce48-7d15-4f67-bbfc-486ca7f9f48c"
      },
      "outputs": [
        {
          "output_type": "stream",
          "name": "stdout",
          "text": [
            "[0. 0. 0. 0. 1. 0. 0. 0. 0. 0.]\n"
          ]
        }
      ],
      "source": [
        "b = np.zeros(10)\n",
        "b[4]=1\n",
        "print(b)"
      ]
    },
    {
      "cell_type": "markdown",
      "metadata": {
        "id": "j6WEaEX393ag"
      },
      "source": [
        "#### 7.  Create a vector with values ranging from 10 to 49 (★☆☆) \n",
        "(**hint**: np.arange)"
      ]
    },
    {
      "cell_type": "code",
      "execution_count": null,
      "metadata": {
        "id": "XKXl1fbj93ah",
        "colab": {
          "base_uri": "https://localhost:8080/"
        },
        "outputId": "54b85729-690d-4b6b-f914-54a4636ee240"
      },
      "outputs": [
        {
          "output_type": "stream",
          "name": "stdout",
          "text": [
            "[10 11 12 13 14 15 16 17 18 19 20 21 22 23 24 25 26 27 28 29 30 31 32 33\n",
            " 34 35 36 37 38 39 40 41 42 43 44 45 46 47 48 49]\n"
          ]
        }
      ],
      "source": [
        "c = np.arange(10, 50)\n",
        "print(c)"
      ]
    },
    {
      "cell_type": "markdown",
      "metadata": {
        "id": "CYO3lMmB93ai"
      },
      "source": [
        "#### 8.  Reverse a vector (first element becomes last) (★☆☆) \n",
        "(**hint**: array\\[::-1\\])"
      ]
    },
    {
      "cell_type": "code",
      "execution_count": null,
      "metadata": {
        "id": "WTfDGF2H93aj",
        "colab": {
          "base_uri": "https://localhost:8080/"
        },
        "outputId": "2dd9f57a-31df-4046-bee5-fe59594feb3b"
      },
      "outputs": [
        {
          "output_type": "stream",
          "name": "stdout",
          "text": [
            "[49 48 47 46 45 44 43 42 41 40 39 38 37 36 35 34 33 32 31 30 29 28 27 26\n",
            " 25 24 23 22 21 20 19 18 17 16 15 14 13 12 11 10]\n"
          ]
        }
      ],
      "source": [
        "print(c[::-1])"
      ]
    },
    {
      "cell_type": "markdown",
      "metadata": {
        "id": "TJDGNF9_93ak"
      },
      "source": [
        "#### 9.  Create a 3x3 matrix with values ranging from 0 to 8 (★☆☆) \n",
        "(**hint**: reshape)"
      ]
    },
    {
      "cell_type": "code",
      "execution_count": null,
      "metadata": {
        "id": "3uF3KbSr93ak",
        "colab": {
          "base_uri": "https://localhost:8080/"
        },
        "outputId": "3eccc9d8-163a-4d0c-b181-41fd176652cd"
      },
      "outputs": [
        {
          "output_type": "execute_result",
          "data": {
            "text/plain": [
              "array([[0, 1, 2],\n",
              "       [3, 4, 5],\n",
              "       [6, 7, 8]])"
            ]
          },
          "metadata": {},
          "execution_count": 10
        }
      ],
      "source": [
        "np.arange(0,9).reshape(3, 3)"
      ]
    },
    {
      "cell_type": "markdown",
      "metadata": {
        "id": "DwLRmXtL93al"
      },
      "source": [
        "#### 10. Find indices of non-zero elements from \\[1,2,0,0,4,0\\] (★☆☆) \n",
        "(**hint**: np.nonzero)"
      ]
    },
    {
      "cell_type": "code",
      "execution_count": null,
      "metadata": {
        "id": "x0X0_e3p93ao",
        "colab": {
          "base_uri": "https://localhost:8080/"
        },
        "outputId": "fc233f3a-34d2-40dd-8c91-4497fe935331"
      },
      "outputs": [
        {
          "output_type": "execute_result",
          "data": {
            "text/plain": [
              "(array([0, 1, 4]),)"
            ]
          },
          "metadata": {},
          "execution_count": 11
        }
      ],
      "source": [
        "d = np.array([1,2,0,0,4,0])\n",
        "np.nonzero(d)\n"
      ]
    },
    {
      "cell_type": "markdown",
      "metadata": {
        "id": "whtFUAR293ao"
      },
      "source": [
        "#### 11. Create a 3x3 identity matrix (★☆☆) \n",
        "(**hint**: np.eye)"
      ]
    },
    {
      "cell_type": "code",
      "execution_count": null,
      "metadata": {
        "id": "6mdxnARU93ap",
        "colab": {
          "base_uri": "https://localhost:8080/"
        },
        "outputId": "6a19b32f-ffdf-4ade-b1cc-d3084a06b1a7"
      },
      "outputs": [
        {
          "output_type": "execute_result",
          "data": {
            "text/plain": [
              "array([[1., 0., 0.],\n",
              "       [0., 1., 0.],\n",
              "       [0., 0., 1.]])"
            ]
          },
          "metadata": {},
          "execution_count": 12
        }
      ],
      "source": [
        "np.eye(3,3)"
      ]
    },
    {
      "cell_type": "markdown",
      "metadata": {
        "id": "ZsMDyeOU93aq"
      },
      "source": [
        "#### 12. Create a 3x3x3 array with random values (★☆☆) \n",
        "(**hint**: np.random.random)"
      ]
    },
    {
      "cell_type": "code",
      "execution_count": null,
      "metadata": {
        "id": "aId7e3Vk93aq",
        "colab": {
          "base_uri": "https://localhost:8080/"
        },
        "outputId": "ffb1474d-64e1-478a-ddbf-52edefee7463"
      },
      "outputs": [
        {
          "output_type": "execute_result",
          "data": {
            "text/plain": [
              "array([[[4.83016367e-01, 2.11377508e-01, 2.97474835e-01],\n",
              "        [5.05842189e-02, 3.41059297e-01, 4.33353989e-01],\n",
              "        [4.87570458e-01, 3.33828387e-02, 9.62344309e-01]],\n",
              "\n",
              "       [[7.10733890e-01, 3.53231370e-01, 2.87220978e-01],\n",
              "        [3.12553135e-01, 4.28762503e-01, 4.08479722e-01],\n",
              "        [3.61832487e-01, 2.23686529e-01, 3.49590435e-01]],\n",
              "\n",
              "       [[8.61809391e-04, 8.48698162e-02, 3.52231802e-02],\n",
              "        [3.59544466e-01, 9.79513217e-02, 4.54736007e-01],\n",
              "        [5.72329488e-01, 4.59179457e-01, 2.79754225e-01]]])"
            ]
          },
          "metadata": {},
          "execution_count": 13
        }
      ],
      "source": [
        "np.random.rand(3,3,3)"
      ]
    },
    {
      "cell_type": "markdown",
      "metadata": {
        "id": "B3kQjXxg93aq"
      },
      "source": [
        "#### 13. Create a 10x10 array with random values and find the minimum and maximum values (★☆☆) \n",
        "(**hint**: min, max)"
      ]
    },
    {
      "cell_type": "code",
      "execution_count": null,
      "metadata": {
        "id": "KyC6PHxq93ar",
        "colab": {
          "base_uri": "https://localhost:8080/"
        },
        "outputId": "ff11ce11-ce70-49ce-d727-18e5cc138f28"
      },
      "outputs": [
        {
          "output_type": "stream",
          "name": "stdout",
          "text": [
            "[[0.8271186  0.88436885 0.40579957 0.3069935  0.4346801  0.97761252\n",
            "  0.17484059 0.5484865  0.07992933 0.81908676]\n",
            " [0.07290337 0.38596481 0.4635403  0.67308092 0.48541341 0.86498731\n",
            "  0.52331437 0.14694912 0.99149792 0.78159078]\n",
            " [0.39235712 0.82517863 0.82405076 0.80224041 0.80004807 0.89506901\n",
            "  0.00247068 0.02252219 0.05884615 0.34717603]\n",
            " [0.29006626 0.95226604 0.77457623 0.57547238 0.52423196 0.01310318\n",
            "  0.93576946 0.50148486 0.56833871 0.3042216 ]\n",
            " [0.62708372 0.18822232 0.03812654 0.258551   0.56677906 0.67402208\n",
            "  0.93349083 0.55071576 0.63213028 0.61610661]\n",
            " [0.75012943 0.14867842 0.57139529 0.43619949 0.4064167  0.14953741\n",
            "  0.69922623 0.87679979 0.18091475 0.76093586]\n",
            " [0.90496705 0.60786188 0.2461176  0.07470781 0.84755334 0.53078306\n",
            "  0.13457242 0.16050027 0.15532218 0.25802155]\n",
            " [0.44270594 0.78162342 0.80532291 0.96142513 0.60799044 0.49934579\n",
            "  0.00745536 0.2933564  0.71690012 0.05977486]\n",
            " [0.9872344  0.06622061 0.82179553 0.15539919 0.16487524 0.26908315\n",
            "  0.23102625 0.54604528 0.1095757  0.97158501]\n",
            " [0.40696119 0.74589469 0.5270877  0.87889915 0.99921802 0.43820218\n",
            "  0.10118367 0.32852593 0.46506734 0.648762  ]]\n",
            "Minimum and Maximum values are: 0.002470676899571589 0.9992180197939073\n"
          ]
        }
      ],
      "source": [
        "e = np.random.rand(10,10)\n",
        "f, g = e.min(),e.max()\n",
        "print(e)\n",
        "print(\"Minimum and Maximum values are:\", f, g)\n"
      ]
    },
    {
      "cell_type": "markdown",
      "metadata": {
        "id": "WkJVKkse93ar"
      },
      "source": [
        "#### 14. Create a random vector of size 30 and find the mean value (★☆☆) \n",
        "(**hint**: mean)"
      ]
    },
    {
      "cell_type": "code",
      "execution_count": null,
      "metadata": {
        "id": "7-DEbVG593as",
        "colab": {
          "base_uri": "https://localhost:8080/"
        },
        "outputId": "fb86f677-e801-4098-f12f-5a44a341f677"
      },
      "outputs": [
        {
          "output_type": "stream",
          "name": "stdout",
          "text": [
            "0.5166631489158418\n"
          ]
        }
      ],
      "source": [
        "h = np.random.rand(30)\n",
        "#print(h)\n",
        "print(np.mean(h))"
      ]
    },
    {
      "cell_type": "markdown",
      "metadata": {
        "id": "XO-ffvjh93at"
      },
      "source": [
        "#### 15. Create a 2d array with 1 on the border and 0 inside (★☆☆) \n",
        "(**hint**: array\\[1:-1, 1:-1\\])"
      ]
    },
    {
      "cell_type": "code",
      "execution_count": null,
      "metadata": {
        "id": "8UIYz1Dz93au",
        "colab": {
          "base_uri": "https://localhost:8080/"
        },
        "outputId": "cc887250-0ac8-4ee8-a4a5-0937879a24e0"
      },
      "outputs": [
        {
          "output_type": "stream",
          "name": "stdout",
          "text": [
            "[[1. 1. 1. 1. 1.]\n",
            " [1. 0. 0. 0. 1.]\n",
            " [1. 0. 0. 0. 1.]\n",
            " [1. 0. 0. 0. 1.]\n",
            " [1. 1. 1. 1. 1.]]\n"
          ]
        }
      ],
      "source": [
        "i = np.ones((5,5))\n",
        "i[1:-1, 1:-1] = 0\n",
        "print(i)"
      ]
    },
    {
      "cell_type": "markdown",
      "metadata": {
        "id": "xS88H8rg93au"
      },
      "source": [
        "#### 16. How to add a border (filled with 0's) around an existing array? (★☆☆) \n",
        "(**hint**: np.pad)"
      ]
    },
    {
      "cell_type": "code",
      "execution_count": null,
      "metadata": {
        "id": "Iyb6B0iN93av",
        "colab": {
          "base_uri": "https://localhost:8080/"
        },
        "outputId": "eefc0350-23b3-4253-fbba-eb2e4a826f1b"
      },
      "outputs": [
        {
          "output_type": "stream",
          "name": "stdout",
          "text": [
            "[[0 0 0 0 0]\n",
            " [0 0 1 2 0]\n",
            " [0 3 4 5 0]\n",
            " [0 6 7 8 0]\n",
            " [0 0 0 0 0]]\n"
          ]
        }
      ],
      "source": [
        "j = np.arange(0, 9).reshape(3, 3)\n",
        "j= np.pad(j,pad_width=1, mode='constant',constant_values=0)\n",
        "print(j)"
      ]
    },
    {
      "cell_type": "markdown",
      "metadata": {
        "id": "INXnHYfO93aw"
      },
      "source": [
        "#### 17. What is the result of the following expression? (★☆☆) \n",
        "(**hint**: NaN = not a number, inf = infinity)"
      ]
    },
    {
      "cell_type": "markdown",
      "metadata": {
        "id": "HXX6pPwE93aw"
      },
      "source": [
        "```python\n",
        "0 * np.nan\n",
        "np.nan == np.nan\n",
        "np.inf > np.nan\n",
        "np.nan - np.nan\n",
        "0.3 == 3 * 0.1\n",
        "```"
      ]
    },
    {
      "cell_type": "code",
      "execution_count": null,
      "metadata": {
        "id": "Bgx_3vl-93ax",
        "colab": {
          "base_uri": "https://localhost:8080/"
        },
        "outputId": "2de03ab5-c5c4-4d92-ab00-3b22210b1cdc"
      },
      "outputs": [
        {
          "output_type": "stream",
          "name": "stdout",
          "text": [
            "nan\n",
            "False\n",
            "False\n",
            "nan\n",
            "False\n"
          ]
        }
      ],
      "source": [
        "import numpy as np\n",
        "print(0 * np.nan)\n",
        "print(np.nan == np.nan)\n",
        "print(np.inf > np.nan)\n",
        "print(np.nan - np.nan)\n",
        "print(0.3 == 3 * 0.1)"
      ]
    },
    {
      "cell_type": "markdown",
      "metadata": {
        "id": "GqYHqAPf93ay"
      },
      "source": [
        "#### 18. Create a 5x5 matrix with values 1,2,3,4 just below the diagonal (★☆☆) \n",
        "(**hint**: np.diag)"
      ]
    },
    {
      "cell_type": "code",
      "execution_count": null,
      "metadata": {
        "id": "ZHok4X7Q93ay",
        "colab": {
          "base_uri": "https://localhost:8080/"
        },
        "outputId": "a53c4b8b-682f-4efc-aa8b-298e6984bb0b"
      },
      "outputs": [
        {
          "output_type": "stream",
          "name": "stdout",
          "text": [
            "[[0 0 0 0 0]\n",
            " [1 0 0 0 0]\n",
            " [0 2 0 0 0]\n",
            " [0 0 3 0 0]\n",
            " [0 0 0 4 0]]\n"
          ]
        }
      ],
      "source": [
        "k = np.diag(1+np.arange(4),k=-1)\n",
        "print(k)"
      ]
    },
    {
      "cell_type": "markdown",
      "metadata": {
        "id": "BBZp7LTG93az"
      },
      "source": [
        "#### 19. Create a 8x8 matrix and fill it with a checkerboard pattern (★☆☆) \n",
        "(**hint**: array\\[::2\\])"
      ]
    },
    {
      "cell_type": "code",
      "execution_count": null,
      "metadata": {
        "id": "0iO5CdlH93az",
        "colab": {
          "base_uri": "https://localhost:8080/"
        },
        "outputId": "ebd2423b-a9fa-4b76-950f-1d14adc5f1f3"
      },
      "outputs": [
        {
          "output_type": "stream",
          "name": "stdout",
          "text": [
            "[[0 1 0 1 0 1 0 1]\n",
            " [1 0 1 0 1 0 1 0]\n",
            " [0 1 0 1 0 1 0 1]\n",
            " [1 0 1 0 1 0 1 0]\n",
            " [0 1 0 1 0 1 0 1]\n",
            " [1 0 1 0 1 0 1 0]\n",
            " [0 1 0 1 0 1 0 1]\n",
            " [1 0 1 0 1 0 1 0]]\n"
          ]
        }
      ],
      "source": [
        "l = np.zeros((8,8),dtype = int)\n",
        "l[1::2,::2] = 1\n",
        "l[::2,1::2] = 1\n",
        "print(l)"
      ]
    },
    {
      "cell_type": "markdown",
      "metadata": {
        "id": "vd7mraFZ93a0"
      },
      "source": [
        "#### 20. Consider a (6,7,8) shape array, what is the index (x,y,z) of the 100th element? \n",
        "(**hint**: np.unravel_index)"
      ]
    },
    {
      "cell_type": "code",
      "execution_count": null,
      "metadata": {
        "id": "PqJJFRhS93a0",
        "colab": {
          "base_uri": "https://localhost:8080/"
        },
        "outputId": "0f0b7db3-2c28-4b42-be31-3e4253e95f79"
      },
      "outputs": [
        {
          "output_type": "stream",
          "name": "stdout",
          "text": [
            "(1, 5, 3)\n"
          ]
        }
      ],
      "source": [
        "print(np.unravel_index(99,(6,7,8)))"
      ]
    },
    {
      "cell_type": "markdown",
      "metadata": {
        "id": "Jt880F2N93a1"
      },
      "source": [
        "#### 21. Create a checkerboard 8x8 matrix using the tile function (★☆☆) \n",
        "(**hint**: np.tile)"
      ]
    },
    {
      "cell_type": "code",
      "execution_count": null,
      "metadata": {
        "id": "Cjj4ioo993a1",
        "colab": {
          "base_uri": "https://localhost:8080/"
        },
        "outputId": "333d0027-73f2-4cef-ee82-ec533c562405"
      },
      "outputs": [
        {
          "output_type": "stream",
          "name": "stdout",
          "text": [
            "[[0 1 0 1 0 1 0 1]\n",
            " [1 0 1 0 1 0 1 0]\n",
            " [0 1 0 1 0 1 0 1]\n",
            " [1 0 1 0 1 0 1 0]\n",
            " [0 1 0 1 0 1 0 1]\n",
            " [1 0 1 0 1 0 1 0]\n",
            " [0 1 0 1 0 1 0 1]\n",
            " [1 0 1 0 1 0 1 0]]\n"
          ]
        }
      ],
      "source": [
        "m = np.tile( np.array([[0,1],[1,0]]), (4,4))\n",
        "print(m)"
      ]
    },
    {
      "cell_type": "markdown",
      "metadata": {
        "id": "uTyKk-YS93a2"
      },
      "source": [
        "#### 22. Normalize a 5x5 random matrix (★☆☆) \n",
        "(**hint**: (x - min) / (max - min))"
      ]
    },
    {
      "cell_type": "code",
      "execution_count": null,
      "metadata": {
        "id": "VsDt-QAE93a2",
        "colab": {
          "base_uri": "https://localhost:8080/"
        },
        "outputId": "ebdbacc7-71c7-4dc3-f14b-d90d58e83b36"
      },
      "outputs": [
        {
          "output_type": "stream",
          "name": "stdout",
          "text": [
            "[[0.87300666 0.48052085 0.72556363 0.01890709 0.01703244]\n",
            " [0.08273319 0.40159329 0.5575996  0.63066163 0.89594629]\n",
            " [0.29575857 0.00245236 0.52524354 0.87635151 0.29849345]\n",
            " [0.72165193 0.15031913 0.76562898 0.         0.41763227]\n",
            " [0.93818242 0.76135145 0.35945854 0.99314435 0.89109583]]\n"
          ]
        }
      ],
      "source": [
        "m = np.random.random((5, 5))\n",
        "n =(m- np.min(m))/(np.max(m))\n",
        "print(n)"
      ]
    },
    {
      "cell_type": "markdown",
      "metadata": {
        "id": "mEdeSzPX93a2"
      },
      "source": [
        "#### 23. Create a custom dtype that describes a color as four unsigned bytes (RGBA) (★☆☆) \n",
        "(**hint**: np.dtype)"
      ]
    },
    {
      "cell_type": "code",
      "execution_count": null,
      "metadata": {
        "collapsed": true,
        "id": "81QQnRfM93a3",
        "colab": {
          "base_uri": "https://localhost:8080/"
        },
        "outputId": "8f2b6ef7-686c-4979-e853-262cfc022a43"
      },
      "outputs": [
        {
          "output_type": "stream",
          "name": "stdout",
          "text": [
            "[('r', 'u1'), ('g', 'u1'), ('b', 'u1'), ('a', 'u1')]\n"
          ]
        }
      ],
      "source": [
        "color = np.dtype([(\"r\", np.ubyte), (\"g\", np.ubyte), (\"b\", np.ubyte),\n",
        "                  (\"a\", np.ubyte)])\n",
        "print(color)"
      ]
    },
    {
      "cell_type": "markdown",
      "metadata": {
        "id": "vy-bRcYp93a4"
      },
      "source": [
        "#### 24. Multiply a 5x3 matrix by a 3x2 matrix (real matrix product) (★☆☆) \n",
        "(**hint**: np.dot | @)"
      ]
    },
    {
      "cell_type": "code",
      "execution_count": null,
      "metadata": {
        "id": "WFrExHIX93a5",
        "colab": {
          "base_uri": "https://localhost:8080/"
        },
        "outputId": "96adc115-830b-4e76-a9a4-0f94ed8f5006"
      },
      "outputs": [
        {
          "output_type": "stream",
          "name": "stdout",
          "text": [
            "[[3. 3.]\n",
            " [3. 3.]\n",
            " [3. 3.]\n",
            " [3. 3.]\n",
            " [3. 3.]]\n"
          ]
        }
      ],
      "source": [
        "o = np.dot(np.ones((5,3)), np.ones((3,2)))\n",
        "print(o)"
      ]
    },
    {
      "cell_type": "markdown",
      "metadata": {
        "id": "2Z2Qowkf93a5"
      },
      "source": [
        "#### 25. Given a 1D array, negate all elements which are between 3 and 8, in place. (★☆☆) \n",
        "(**hint**: >, <=)"
      ]
    },
    {
      "cell_type": "code",
      "execution_count": null,
      "metadata": {
        "id": "JsvqfoKy93a5",
        "colab": {
          "base_uri": "https://localhost:8080/"
        },
        "outputId": "d64bdc51-d62e-4994-eace-9a7e5fba1374"
      },
      "outputs": [
        {
          "output_type": "stream",
          "name": "stdout",
          "text": [
            "[ 0  1  2  3 -4 -5 -6 -7 -8  9 10]\n"
          ]
        }
      ],
      "source": [
        "p = np.arange(11)\n",
        "p[(3 < p) & (p <= 8)] *= -1\n",
        "print(p)"
      ]
    },
    {
      "cell_type": "markdown",
      "metadata": {
        "id": "ysJFrMn593a6"
      },
      "source": [
        "#### 26. What is the output of the following script? (★☆☆) \n",
        "(**hint**: np.sum)"
      ]
    },
    {
      "cell_type": "markdown",
      "metadata": {
        "id": "tKZxzsia93a7"
      },
      "source": [
        "```python\n",
        "# Author: Jake VanderPlas\n",
        "\n",
        "print(sum(range(5),-1))\n",
        "from numpy import *\n",
        "print(sum(range(5),-1))\n",
        "```"
      ]
    },
    {
      "cell_type": "code",
      "execution_count": null,
      "metadata": {
        "id": "q_CPULR-93a7",
        "colab": {
          "base_uri": "https://localhost:8080/"
        },
        "outputId": "493957eb-eb5c-4998-80e4-1de2727ac66a"
      },
      "outputs": [
        {
          "output_type": "stream",
          "name": "stdout",
          "text": [
            "9\n",
            "10\n"
          ]
        }
      ],
      "source": [
        "print(sum(range(5),-1))\n",
        "from numpy import *\n",
        "print(sum(range(5),-1))"
      ]
    },
    {
      "cell_type": "markdown",
      "metadata": {
        "id": "cbWFi5HH93a7"
      },
      "source": [
        "#### 27. Consider an integer vector Z, which of these expressions are legal? (★☆☆)"
      ]
    },
    {
      "cell_type": "markdown",
      "metadata": {
        "id": "KlrQBJxD93a8"
      },
      "source": [
        "```python\n",
        "Z**Z\n",
        "2 << Z >> 2\n",
        "Z <- Z\n",
        "1j*Z\n",
        "Z/1/1\n",
        "Z<Z>Z\n",
        "```"
      ]
    },
    {
      "cell_type": "code",
      "execution_count": null,
      "metadata": {
        "id": "XS2zQOcS93a9"
      },
      "outputs": [],
      "source": [
        "z**z\n",
        "2 << Z >> 2\n",
        "Z <- Z\n",
        "1j*Z\n",
        "Z/1/1\n",
        "Z<Z>Z"
      ]
    },
    {
      "cell_type": "markdown",
      "metadata": {
        "id": "GQoAKSku93a9"
      },
      "source": [
        "#### 28. What are the result of the following expressions?"
      ]
    },
    {
      "cell_type": "markdown",
      "metadata": {
        "id": "vWRJ0FCX93a9"
      },
      "source": [
        "```python\n",
        "np.array(0) / np.array(0)\n",
        "np.array(0) // np.array(0)\n",
        "np.array([np.nan]).astype(int).astype(float)\n",
        "```"
      ]
    },
    {
      "cell_type": "code",
      "execution_count": null,
      "metadata": {
        "id": "xqWs_bQN93a-",
        "colab": {
          "base_uri": "https://localhost:8080/"
        },
        "outputId": "a6c2eb00-8101-4120-f5dc-50ca3ecccdcf"
      },
      "outputs": [
        {
          "output_type": "stream",
          "name": "stdout",
          "text": [
            "nan\n",
            "0\n",
            "[-9.22337204e+18]\n"
          ]
        },
        {
          "output_type": "stream",
          "name": "stderr",
          "text": [
            "/usr/local/lib/python3.7/dist-packages/ipykernel_launcher.py:1: RuntimeWarning: invalid value encountered in true_divide\n",
            "  \"\"\"Entry point for launching an IPython kernel.\n",
            "/usr/local/lib/python3.7/dist-packages/ipykernel_launcher.py:2: RuntimeWarning: divide by zero encountered in floor_divide\n",
            "  \n"
          ]
        }
      ],
      "source": [
        "print(np.array(0) / np.array(0))\n",
        "print(np.array(0) // np.array(0))\n",
        "print(np.array([np.nan]).astype(int).astype(float))"
      ]
    },
    {
      "cell_type": "markdown",
      "metadata": {
        "id": "stGeyVhA93a-"
      },
      "source": [
        "#### 29. How to round away from zero a float array ? (★☆☆) \n",
        "(**hint**: np.uniform, np.copysign, np.ceil, np.abs)"
      ]
    },
    {
      "cell_type": "code",
      "execution_count": null,
      "metadata": {
        "id": "2sIpRNjY93a_",
        "colab": {
          "base_uri": "https://localhost:8080/"
        },
        "outputId": "cb19b0ba-150d-4082-eb9c-9648575ae033"
      },
      "outputs": [
        {
          "output_type": "stream",
          "name": "stdout",
          "text": [
            "[-9.75265545 -7.17117371  0.80022376 -0.20084016  8.98362542 -6.37405216\n",
            "  9.16211516 -9.12380995 -5.72622963  9.71847748]\n",
            "[-10.  -8.   1.  -1.   9.  -7.  10. -10.  -6.  10.]\n"
          ]
        }
      ],
      "source": [
        "p = np.random.uniform(-10,+10,10)\n",
        "print(p)\n",
        "print(np.copysign(np.ceil(np.abs(p)), p))"
      ]
    },
    {
      "cell_type": "markdown",
      "metadata": {
        "id": "GBX9DR3W93a_"
      },
      "source": [
        "#### 30. How to find common values between two arrays? (★☆☆) \n",
        "(**hint**: np.intersect1d)"
      ]
    },
    {
      "cell_type": "code",
      "execution_count": null,
      "metadata": {
        "id": "f1mkqX3u93a_",
        "colab": {
          "base_uri": "https://localhost:8080/"
        },
        "outputId": "da2aa893-f270-44e4-91d3-0c8eeb4a1edf"
      },
      "outputs": [
        {
          "output_type": "stream",
          "name": "stdout",
          "text": [
            "[10 11 12 13 14 15 16 17 18 19 20 21 22 23 24 25 26 27 28 29]\n",
            "[20 21 22 23 24 25 26 27 28 29 30 31 32 33 34 35 36 37 38 39]\n",
            "[20 21 22 23 24 25 26 27 28 29]\n"
          ]
        }
      ],
      "source": [
        "a1 = np.arange(10,30)\n",
        "print(a1)\n",
        "a2 = np.arange(20,40)\n",
        "print(a2)\n",
        "print(np.intersect1d(a1,a2))"
      ]
    },
    {
      "cell_type": "markdown",
      "metadata": {
        "id": "TVrs-mDS93bA"
      },
      "source": [
        "#### 31. How to ignore all numpy warnings (not recommended)? (★☆☆) \n",
        "(**hint**: np.seterr, np.errstate)"
      ]
    },
    {
      "cell_type": "code",
      "source": [
        "q = np.seterr(all=\"ignore\")\n",
        "r = np.zeros(1)/0\n"
      ],
      "metadata": {
        "id": "zH8bymWINKjm"
      },
      "execution_count": null,
      "outputs": []
    },
    {
      "cell_type": "markdown",
      "metadata": {
        "id": "n0SWFJWY93bA"
      },
      "source": [
        "#### 32. Is the following expressions true? (★☆☆) \n",
        "(**hint**: imaginary number)"
      ]
    },
    {
      "cell_type": "markdown",
      "metadata": {
        "id": "B9YT8Wsi93bB"
      },
      "source": [
        "```python\n",
        "np.sqrt(-1) == np.emath.sqrt(-1)\n",
        "```"
      ]
    },
    {
      "cell_type": "code",
      "execution_count": null,
      "metadata": {
        "id": "jVsZGlYr93bB",
        "colab": {
          "base_uri": "https://localhost:8080/"
        },
        "outputId": "87b870af-d60e-48b5-8d03-a434b2fdeb7d"
      },
      "outputs": [
        {
          "output_type": "execute_result",
          "data": {
            "text/plain": [
              "False"
            ]
          },
          "metadata": {},
          "execution_count": 33
        }
      ],
      "source": [
        "False"
      ]
    },
    {
      "cell_type": "markdown",
      "metadata": {
        "id": "-LYRYdSA93bC"
      },
      "source": [
        "#### 33. How to get the dates of yesterday, today and tomorrow? (★☆☆) \n",
        "(**hint**: np.datetime64, np.timedelta64)"
      ]
    },
    {
      "cell_type": "code",
      "execution_count": null,
      "metadata": {
        "collapsed": true,
        "id": "gLy8LvJy93bC",
        "colab": {
          "base_uri": "https://localhost:8080/"
        },
        "outputId": "8890f85c-4b0b-456d-8e1b-028bc7a73e69"
      },
      "outputs": [
        {
          "output_type": "stream",
          "name": "stdout",
          "text": [
            "2022-06-30\n",
            "2022-07-01\n",
            "2022-07-02\n"
          ]
        }
      ],
      "source": [
        "yesterday = np.datetime64('today') - np.timedelta64(1)\n",
        "today     = np.datetime64('today')\n",
        "tomorrow  = np.datetime64('today') + np.timedelta64(1)\n",
        "print(yesterday)\n",
        "print(today)\n",
        "print(tomorrow)"
      ]
    },
    {
      "cell_type": "markdown",
      "metadata": {
        "id": "0tCfCYOE93bD"
      },
      "source": [
        "#### 34. How to get all the dates corresponding to the month of July 2016? (★★☆) \n",
        "(**hint**: np.arange(dtype=datetime64\\['D'\\]))"
      ]
    },
    {
      "cell_type": "code",
      "execution_count": null,
      "metadata": {
        "id": "hXm9jJNL93bD",
        "colab": {
          "base_uri": "https://localhost:8080/"
        },
        "outputId": "b5d6c448-fe94-4028-c042-25448fca6cd7"
      },
      "outputs": [
        {
          "output_type": "stream",
          "name": "stdout",
          "text": [
            "['2022-07-01' '2022-07-02' '2022-07-03' '2022-07-04' '2022-07-05'\n",
            " '2022-07-06' '2022-07-07' '2022-07-08' '2022-07-09' '2022-07-10'\n",
            " '2022-07-11' '2022-07-12' '2022-07-13' '2022-07-14' '2022-07-15'\n",
            " '2022-07-16' '2022-07-17' '2022-07-18' '2022-07-19' '2022-07-20'\n",
            " '2022-07-21' '2022-07-22' '2022-07-23' '2022-07-24' '2022-07-25'\n",
            " '2022-07-26' '2022-07-27' '2022-07-28' '2022-07-29' '2022-07-30'\n",
            " '2022-07-31']\n"
          ]
        }
      ],
      "source": [
        "july = np.arange('2022-07','2022-08', dtype='datetime64[D]')\n",
        "print(july)"
      ]
    },
    {
      "cell_type": "markdown",
      "metadata": {
        "id": "IvdeSH3w93bD"
      },
      "source": [
        "#### 35. How to compute ((A+B)\\*(-A/2)) in place (without copy)? (★★☆) \n",
        "(**hint**: np.add(out=), np.negative(out=), np.multiply(out=), np.divide(out=))"
      ]
    },
    {
      "cell_type": "code",
      "execution_count": null,
      "metadata": {
        "id": "2UKUCuYH93bE",
        "colab": {
          "base_uri": "https://localhost:8080/"
        },
        "outputId": "34ceded2-8003-422e-f606-90ec1c1116f0"
      },
      "outputs": [
        {
          "output_type": "execute_result",
          "data": {
            "text/plain": [
              "array([-1.5, -1.5, -1.5])"
            ]
          },
          "metadata": {},
          "execution_count": 36
        }
      ],
      "source": [
        "a = np.ones(3)*1\n",
        "b = np.ones(3)*2\n",
        "\n",
        "np.add(a,b,out=b)\n",
        "\n",
        "np.divide(a,2,out=a)\n",
        "\n",
        "np.negative(a,out=a)\n",
        "\n",
        "np.multiply(a,b,out=a)\n"
      ]
    },
    {
      "cell_type": "markdown",
      "metadata": {
        "id": "znKY6BgD93bE"
      },
      "source": [
        "#### 36. Extract the integer part of a random array using 5 different methods (★★☆) \n",
        "(**hint**: %, np.floor, np.ceil, astype, np.trunc)"
      ]
    },
    {
      "cell_type": "code",
      "execution_count": null,
      "metadata": {
        "id": "sNehVA7H93bF"
      },
      "outputs": [],
      "source": [
        ""
      ]
    },
    {
      "cell_type": "markdown",
      "metadata": {
        "id": "lRKcdx_R93bF"
      },
      "source": [
        "#### 37. Create a 5x5 matrix with row values ranging from 0 to 4 (★★☆) \n",
        "(**hint**: np.arange)"
      ]
    },
    {
      "cell_type": "code",
      "execution_count": null,
      "metadata": {
        "id": "zKr683N693bG",
        "colab": {
          "base_uri": "https://localhost:8080/"
        },
        "outputId": "3945f3ea-95f7-46ed-9d96-80c1790dfaa1"
      },
      "outputs": [
        {
          "output_type": "stream",
          "name": "stdout",
          "text": [
            "[[0. 1. 2. 3. 4.]\n",
            " [0. 1. 2. 3. 4.]\n",
            " [0. 1. 2. 3. 4.]\n",
            " [0. 1. 2. 3. 4.]\n",
            " [0. 1. 2. 3. 4.]]\n"
          ]
        }
      ],
      "source": [
        "q = np.zeros((5, 5))\n",
        "q += np.arange(5)\n",
        "print(q)"
      ]
    },
    {
      "cell_type": "markdown",
      "metadata": {
        "id": "snyKy6_A93bG"
      },
      "source": [
        "#### 38. Consider a generator function that generates 10 integers and use it to build an array (★☆☆) \n",
        "(**hint**: np.fromiter)"
      ]
    },
    {
      "cell_type": "code",
      "execution_count": null,
      "metadata": {
        "id": "QAxxfKZx93bH",
        "colab": {
          "base_uri": "https://localhost:8080/"
        },
        "outputId": "df8ac5e2-a500-4dc7-cd97-1b5bc25cc617"
      },
      "outputs": [
        {
          "output_type": "stream",
          "name": "stdout",
          "text": [
            "[0. 1. 2. 3. 4. 5. 6. 7. 8. 9.]\n"
          ]
        }
      ],
      "source": [
        "def generate():\n",
        "    for i in range(10):\n",
        "        yield i\n",
        "v = np.fromiter(generate(),dtype=float,count=-1)\n",
        "print(v)\n"
      ]
    },
    {
      "cell_type": "markdown",
      "metadata": {
        "id": "0TNegjPs93bI"
      },
      "source": [
        "#### 39. Create a vector of size 10 with values ranging from 0 to 1, both excluded (★★☆) \n",
        "(**hint**: np.linspace)"
      ]
    },
    {
      "cell_type": "code",
      "execution_count": null,
      "metadata": {
        "id": "dHMplsw_93bI",
        "colab": {
          "base_uri": "https://localhost:8080/"
        },
        "outputId": "5ae6315f-6d30-4119-ba79-1736f834d5f9"
      },
      "outputs": [
        {
          "output_type": "stream",
          "name": "stdout",
          "text": [
            "[0.09090909 0.18181818 0.27272727 0.36363636 0.45454545 0.54545455\n",
            " 0.63636364 0.72727273 0.81818182 0.90909091]\n"
          ]
        }
      ],
      "source": [
        "import numpy as np\n",
        "w = np.linspace(0,1,11,endpoint=False)[1:]\n",
        "print(w)"
      ]
    },
    {
      "cell_type": "markdown",
      "metadata": {
        "id": "TEYnbl5f93bK"
      },
      "source": [
        "#### 40. Create a random vector of size 10 and sort it (★★☆) \n",
        "(**hint**: sort)"
      ]
    },
    {
      "cell_type": "code",
      "execution_count": null,
      "metadata": {
        "id": "CSTSHBW393bL",
        "colab": {
          "base_uri": "https://localhost:8080/"
        },
        "outputId": "e59c0b69-7bf7-4691-fcad-36786118f950"
      },
      "outputs": [
        {
          "output_type": "stream",
          "name": "stdout",
          "text": [
            "[0.9998376  0.16978494 0.75258685 0.89787446 0.4569175  0.13349106\n",
            " 0.71144526 0.8458298  0.44743086 0.67594588]\n"
          ]
        },
        {
          "output_type": "execute_result",
          "data": {
            "text/plain": [
              "array([0.13349106, 0.16978494, 0.44743086, 0.4569175 , 0.67594588,\n",
              "       0.71144526, 0.75258685, 0.8458298 , 0.89787446, 0.9998376 ])"
            ]
          },
          "metadata": {},
          "execution_count": 40
        }
      ],
      "source": [
        "x = np.random.rand(10)\n",
        "print(x)\n",
        "np.sort(x)"
      ]
    },
    {
      "cell_type": "markdown",
      "metadata": {
        "id": "tHhlAB2e93bL"
      },
      "source": [
        "#### 41. How to sum a small array faster than np.sum? (★★☆) \n",
        "(**hint**: np.add.reduce)"
      ]
    },
    {
      "cell_type": "code",
      "execution_count": null,
      "metadata": {
        "id": "tBzCydgZ93bM",
        "colab": {
          "base_uri": "https://localhost:8080/"
        },
        "outputId": "7d8c8f14-db95-4a62-e858-11d1e4714093"
      },
      "outputs": [
        {
          "output_type": "stream",
          "name": "stdout",
          "text": [
            "[0 1 2 3 4 5 6 7 8 9]\n"
          ]
        },
        {
          "output_type": "execute_result",
          "data": {
            "text/plain": [
              "45"
            ]
          },
          "metadata": {},
          "execution_count": 41
        }
      ],
      "source": [
        "y = np.arange(10)\n",
        "print(y)\n",
        "np.add.reduce(y)\n"
      ]
    },
    {
      "cell_type": "markdown",
      "metadata": {
        "id": "sSu_WwhD93bM"
      },
      "source": [
        "#### 42. Consider two random array A and B, check if they are equal (★★☆) \n",
        "(**hint**: np.allclose, np.array\\_equal)"
      ]
    },
    {
      "cell_type": "code",
      "execution_count": null,
      "metadata": {
        "id": "qYCq6YVq93bM",
        "colab": {
          "base_uri": "https://localhost:8080/"
        },
        "outputId": "7dc15f25-599d-44aa-e8ba-f84d45cd1ff2"
      },
      "outputs": [
        {
          "output_type": "stream",
          "name": "stdout",
          "text": [
            "False\n",
            "False\n"
          ]
        }
      ],
      "source": [
        "z1 = np.random.rand(10)\n",
        "z2 = np.random.rand(10)\n",
        "e = np.allclose(z1,z2)\n",
        "print(e)\n",
        "e1 = np.array_equal(z1, z2)\n",
        "print(e1)"
      ]
    },
    {
      "cell_type": "markdown",
      "metadata": {
        "id": "NJSCxqom93bN"
      },
      "source": [
        "#### 43. Make an array immutable (read-only) (★★☆) \n",
        "(**hint**: flags.writeable)"
      ]
    },
    {
      "cell_type": "code",
      "execution_count": null,
      "metadata": {
        "id": "iu-fqsVj93bN",
        "colab": {
          "base_uri": "https://localhost:8080/",
          "height": 200
        },
        "outputId": "c4bc51ef-28a3-4dca-fe14-a314f031659b"
      },
      "outputs": [
        {
          "output_type": "error",
          "ename": "ValueError",
          "evalue": "ignored",
          "traceback": [
            "\u001b[0;31m---------------------------------------------------------------------------\u001b[0m",
            "\u001b[0;31mValueError\u001b[0m                                Traceback (most recent call last)",
            "\u001b[0;32m<ipython-input-43-a29a50787d56>\u001b[0m in \u001b[0;36m<module>\u001b[0;34m()\u001b[0m\n\u001b[1;32m      1\u001b[0m \u001b[0mn\u001b[0m \u001b[0;34m=\u001b[0m \u001b[0mnp\u001b[0m\u001b[0;34m.\u001b[0m\u001b[0mones\u001b[0m\u001b[0;34m(\u001b[0m\u001b[0;36m10\u001b[0m\u001b[0;34m)\u001b[0m\u001b[0;34m\u001b[0m\u001b[0;34m\u001b[0m\u001b[0m\n\u001b[1;32m      2\u001b[0m \u001b[0mn\u001b[0m\u001b[0;34m.\u001b[0m\u001b[0mflags\u001b[0m\u001b[0;34m.\u001b[0m\u001b[0mwriteable\u001b[0m \u001b[0;34m=\u001b[0m \u001b[0;32mFalse\u001b[0m\u001b[0;34m\u001b[0m\u001b[0;34m\u001b[0m\u001b[0m\n\u001b[0;32m----> 3\u001b[0;31m \u001b[0mn\u001b[0m\u001b[0;34m[\u001b[0m\u001b[0;36m0\u001b[0m\u001b[0;34m]\u001b[0m \u001b[0;34m=\u001b[0m \u001b[0;36m2\u001b[0m\u001b[0;34m\u001b[0m\u001b[0;34m\u001b[0m\u001b[0m\n\u001b[0m",
            "\u001b[0;31mValueError\u001b[0m: assignment destination is read-only"
          ]
        }
      ],
      "source": [
        "n = np.ones(10)\n",
        "n.flags.writeable = False\n",
        "n[0] = 2"
      ]
    },
    {
      "cell_type": "markdown",
      "metadata": {
        "id": "nmL-eIKN93bN"
      },
      "source": [
        "#### 44. Consider a random 10x2 matrix representing cartesian coordinates, convert them to polar coordinates (★★☆) \n",
        "(**hint**: np.sqrt, np.arctan2)"
      ]
    },
    {
      "cell_type": "code",
      "execution_count": null,
      "metadata": {
        "id": "qM6bN0vB93bO"
      },
      "outputs": [],
      "source": [
        ""
      ]
    },
    {
      "cell_type": "markdown",
      "metadata": {
        "id": "qJuZiKsU93bO"
      },
      "source": [
        "#### 45. Create random vector of size 10 and replace the maximum value by 0 (★★☆) \n",
        "(**hint**: argmax)"
      ]
    },
    {
      "cell_type": "code",
      "execution_count": null,
      "metadata": {
        "id": "zBzSOUsn93bO"
      },
      "outputs": [],
      "source": [
        "r = np.random.rand(10)\n",
        "r[r.argmax()] = 0\n",
        "print(r)"
      ]
    },
    {
      "cell_type": "markdown",
      "metadata": {
        "id": "e1-vAl1T93bP"
      },
      "source": [
        "#### 46. Create a structured array with `x` and `y` coordinates covering the \\[0,1\\]x\\[0,1\\] area (★★☆) \n",
        "(**hint**: np.meshgrid)"
      ]
    },
    {
      "cell_type": "code",
      "execution_count": null,
      "metadata": {
        "id": "iMwPmSwP93bP"
      },
      "outputs": [],
      "source": [
        ""
      ]
    },
    {
      "cell_type": "markdown",
      "metadata": {
        "id": "NwPOHcZi93bQ"
      },
      "source": [
        "####  47. Given two arrays, X and Y, construct the Cauchy matrix C (Cij =1/(xi - yj)) \n",
        "(**hint**: np.subtract.outer)"
      ]
    },
    {
      "cell_type": "code",
      "execution_count": null,
      "metadata": {
        "id": "IBNHTqZC93bQ"
      },
      "outputs": [],
      "source": [
        ""
      ]
    },
    {
      "cell_type": "markdown",
      "metadata": {
        "id": "38eTkLY_93bQ"
      },
      "source": [
        "#### 48. Print the minimum and maximum representable value for each numpy scalar type (★★☆) \n",
        "(**hint**: np.iinfo, np.finfo, eps)"
      ]
    },
    {
      "cell_type": "code",
      "execution_count": null,
      "metadata": {
        "id": "UxLKEurf93bR"
      },
      "outputs": [],
      "source": [
        "for dtype in [np.int8, np.int32, np.int64]:\n",
        "   print(np.iinfo(dtype).min)\n",
        "   print(np.iinfo(dtype).max)\n",
        "for dtype in [np.float32, np.float64]:\n",
        "   print(np.finfo(dtype).min)\n",
        "   print(np.finfo(dtype).max)\n",
        "   print(np.finfo(dtype).eps)"
      ]
    },
    {
      "cell_type": "markdown",
      "metadata": {
        "id": "HWDGNapz93bR"
      },
      "source": [
        "#### 49. How to print all the values of an array? (★★☆) \n",
        "(**hint**: np.set\\_printoptions)"
      ]
    },
    {
      "cell_type": "code",
      "execution_count": null,
      "metadata": {
        "id": "gKEdYNt_93bR"
      },
      "outputs": [],
      "source": [
        "np.set_printoptions()\n",
        "a = np.zeros((10,10))\n",
        "print(a)"
      ]
    },
    {
      "cell_type": "markdown",
      "metadata": {
        "id": "t3CuxTL793bS"
      },
      "source": [
        "#### 50. How to find the closest value (to a given scalar) in a vector? (★★☆) \n",
        "(**hint**: argmin)"
      ]
    },
    {
      "cell_type": "code",
      "execution_count": null,
      "metadata": {
        "id": "-_XLgjFm93bS"
      },
      "outputs": [],
      "source": [
        "b = np.arange(100)\n",
        "c = np.random.uniform(0,100)\n",
        "index = (np.abs(b-c)).argmin()\n",
        "print(b[index])"
      ]
    },
    {
      "cell_type": "markdown",
      "metadata": {
        "id": "mrcPdBEy93bS"
      },
      "source": [
        "#### 51. Create a structured array representing a position (x,y) and a color (r,g,b) (★★☆) \n",
        "(**hint**: dtype)"
      ]
    },
    {
      "cell_type": "code",
      "execution_count": null,
      "metadata": {
        "id": "tCxxWYah93bT"
      },
      "outputs": [],
      "source": [
        "C = np.zeros(10, [ ('position', [ ('x', float),\n",
        "                                  ('y', float)]),\n",
        "                   ('color',    [ ('r', float),\n",
        "                                  ('g', float),\n",
        "                                  ('b', float)])])\n",
        "print(C)"
      ]
    },
    {
      "cell_type": "markdown",
      "metadata": {
        "id": "TLXJhbec93bU"
      },
      "source": [
        "#### 52. Consider a random vector with shape (100,2) representing coordinates, find point by point distances (★★☆) \n",
        "(**hint**: np.atleast\\_2d, T, np.sqrt)"
      ]
    },
    {
      "cell_type": "code",
      "execution_count": null,
      "metadata": {
        "id": "IuoJ-6jG93bU",
        "colab": {
          "base_uri": "https://localhost:8080/"
        },
        "outputId": "449c15e6-fde5-4cf0-d580-5c79cca0e27d"
      },
      "outputs": [
        {
          "output_type": "stream",
          "name": "stdout",
          "text": [
            "[[0.         0.58200806 0.81812055 0.94221323 0.94085571 0.63046818\n",
            "  0.72243003 0.79126913 0.42625565 0.47459847]\n",
            " [0.58200806 0.         0.32434695 0.3613871  0.41341223 0.15350255\n",
            "  0.4623364  0.41158149 0.54343635 0.68423047]\n",
            " [0.81812055 0.32434695 0.         0.34048079 0.5344881  0.44201358\n",
            "  0.75455302 0.66554514 0.86527946 1.00505366]\n",
            " [0.94221323 0.3613871  0.34048079 0.         0.2243654  0.34820184\n",
            "  0.5735401  0.44440384 0.82285924 0.96088555]\n",
            " [0.94085571 0.41341223 0.5344881  0.2243654  0.         0.31171177\n",
            "  0.40373488 0.26209494 0.72155353 0.84847573]\n",
            " [0.63046818 0.15350255 0.44201358 0.34820184 0.31171177 0.\n",
            "  0.31618435 0.2583914  0.47754641 0.6174672 ]\n",
            " [0.72243003 0.4623364  0.75455302 0.5735401  0.40373488 0.31618435\n",
            "  0.         0.14218673 0.37145063 0.47346376]\n",
            " [0.79126913 0.41158149 0.66554514 0.44440384 0.26209494 0.2583914\n",
            "  0.14218673 0.         0.49034318 0.60494349]\n",
            " [0.42625565 0.54343635 0.86527946 0.82285924 0.72155353 0.47754641\n",
            "  0.37145063 0.49034318 0.         0.14143078]\n",
            " [0.47459847 0.68423047 1.00505366 0.96088555 0.84847573 0.6174672\n",
            "  0.47346376 0.60494349 0.14143078 0.        ]]\n"
          ]
        }
      ],
      "source": [
        "Z = np.random.random((10,2))\n",
        "X,Y = np.atleast_2d(Z[:,0], Z[:,1])\n",
        "D = np.sqrt( (X-X.T)**2 + (Y-Y.T)**2)\n",
        "print(D)"
      ]
    },
    {
      "cell_type": "markdown",
      "metadata": {
        "id": "g0_QEMv393bU"
      },
      "source": [
        "#### 53. How to convert a float (32 bits) array into an integer (32 bits) in place? \n",
        "(**hint**: astype(copy=False))"
      ]
    },
    {
      "cell_type": "code",
      "execution_count": null,
      "metadata": {
        "id": "PZro3eaO93bV",
        "colab": {
          "base_uri": "https://localhost:8080/"
        },
        "outputId": "293a95d6-2856-48c1-fd07-39239b45d446"
      },
      "outputs": [
        {
          "output_type": "stream",
          "name": "stdout",
          "text": [
            "[2.66e-44 8.27e-44 1.30e-43 2.80e-44 4.48e-44 9.53e-44 7.85e-44 2.80e-44\n",
            " 7.43e-44 3.22e-44 1.08e-43 9.39e-44 4.76e-44 1.40e-45 9.39e-44 7.57e-44\n",
            " 8.13e-44 4.34e-44 3.36e-44 9.95e-44]\n"
          ]
        }
      ],
      "source": [
        "s = (np.random.rand(20)*100).astype(np.float32)\n",
        "d = s.view(np.int32)\n",
        "d[:] = s\n",
        "print(s)"
      ]
    },
    {
      "cell_type": "markdown",
      "metadata": {
        "id": "K5Pqt1w193bV"
      },
      "source": [
        "#### 54. How to read the following file? (★★☆) \n",
        "(**hint**: np.genfromtxt)"
      ]
    },
    {
      "cell_type": "markdown",
      "metadata": {
        "id": "aojnkT9o93bV"
      },
      "source": [
        "```\n",
        "1, 2, 3, 4, 5\n",
        "6,  ,  , 7, 8\n",
        " ,  , 9,10,11\n",
        "```"
      ]
    },
    {
      "cell_type": "code",
      "execution_count": null,
      "metadata": {
        "id": "9sGQB34S93bW",
        "colab": {
          "base_uri": "https://localhost:8080/"
        },
        "outputId": "ef33d710-5a58-4089-bc70-b3073f883a85"
      },
      "outputs": [
        {
          "output_type": "stream",
          "name": "stdout",
          "text": [
            "[[ 1.  2.  3.  4.  5.]\n",
            " [ 6. nan nan  7.  8.]\n",
            " [nan nan  9. 10. 11.]]\n"
          ]
        }
      ],
      "source": [
        "from io import StringIO\n",
        "\n",
        "# Fake file\n",
        "s = StringIO('''1, 2, 3, 4, 5\n",
        "                6,  ,  , 7, 8\n",
        "                 ,  , 9,10,11\n",
        "''')\n",
        "a = np.genfromtxt(s, delimiter=\",\")\n",
        "print(a)"
      ]
    },
    {
      "cell_type": "markdown",
      "metadata": {
        "id": "NEdMqpSo93bW"
      },
      "source": [
        "#### 55. What is the equivalent of enumerate for numpy arrays? (★★☆) \n",
        "(**hint**: np.ndenumerate, np.ndindex)"
      ]
    },
    {
      "cell_type": "code",
      "execution_count": null,
      "metadata": {
        "id": "RFh9ZxGb93bX",
        "colab": {
          "base_uri": "https://localhost:8080/"
        },
        "outputId": "12af6b58-b66a-476a-f2d4-35e9e58ba1b2"
      },
      "outputs": [
        {
          "output_type": "stream",
          "name": "stdout",
          "text": [
            "[[0 1 2]\n",
            " [3 4 5]\n",
            " [6 7 8]]\n",
            "(0, 0) 0\n",
            "(0, 1) 1\n",
            "(0, 2) 2\n",
            "(1, 0) 3\n",
            "(1, 1) 4\n",
            "(1, 2) 5\n",
            "(2, 0) 6\n",
            "(2, 1) 7\n",
            "(2, 2) 8\n",
            "(0, 0) 0\n",
            "(0, 1) 1\n",
            "(0, 2) 2\n",
            "(1, 0) 3\n",
            "(1, 1) 4\n",
            "(1, 2) 5\n",
            "(2, 0) 6\n",
            "(2, 1) 7\n",
            "(2, 2) 8\n"
          ]
        }
      ],
      "source": [
        "n = np.arange(9).reshape(3,3)\n",
        "print(n)\n",
        "for index, value in np.ndenumerate(n):\n",
        "    print(index, value)\n",
        "for index in np.ndindex(n.shape):\n",
        "    print(index, n[index])"
      ]
    },
    {
      "cell_type": "markdown",
      "metadata": {
        "id": "XPxHI66j93bX"
      },
      "source": [
        "#### 56. Generate a generic 2D Gaussian-like array (★★☆) \n",
        "(**hint**: np.meshgrid, np.exp)"
      ]
    },
    {
      "cell_type": "code",
      "execution_count": null,
      "metadata": {
        "id": "QA0OG7qf93bX"
      },
      "outputs": [],
      "source": [
        ""
      ]
    },
    {
      "cell_type": "markdown",
      "metadata": {
        "id": "L3a_FU7d93bY"
      },
      "source": [
        "#### 57. How to randomly place p elements in a 2D array? (★★☆) \n",
        "(**hint**: np.put, np.random.choice)"
      ]
    },
    {
      "cell_type": "code",
      "execution_count": null,
      "metadata": {
        "id": "eFtT_o8O93bZ",
        "colab": {
          "base_uri": "https://localhost:8080/"
        },
        "outputId": "7d5ef70c-b93a-44b1-ca09-7f572b9b09d0"
      },
      "outputs": [
        {
          "output_type": "stream",
          "name": "stdout",
          "text": [
            "[[0. 0. 0. 0. 0. 0. 0. 0. 0. 0.]\n",
            " [0. 0. 0. 0. 0. 0. 0. 0. 0. 0.]\n",
            " [0. 0. 0. 0. 0. 0. 0. 0. 0. 0.]\n",
            " [0. 0. 0. 0. 0. 0. 0. 0. 0. 0.]\n",
            " [0. 0. 0. 0. 0. 0. 0. 0. 0. 0.]\n",
            " [0. 0. 0. 0. 0. 0. 0. 0. 0. 1.]\n",
            " [0. 0. 0. 0. 0. 0. 0. 0. 0. 0.]\n",
            " [0. 0. 0. 0. 1. 0. 0. 0. 0. 0.]\n",
            " [0. 1. 0. 0. 0. 0. 0. 0. 0. 0.]\n",
            " [0. 0. 0. 0. 0. 0. 0. 0. 0. 0.]]\n"
          ]
        }
      ],
      "source": [
        "n = 10\n",
        "p = 3\n",
        "g = np.zeros((n,n))\n",
        "np.put(g, np.random.choice(range(n*n), p, replace=False),1)\n",
        "print(g)"
      ]
    },
    {
      "cell_type": "markdown",
      "metadata": {
        "id": "PAFiem2793bZ"
      },
      "source": [
        "#### 58. Subtract the mean of each row of a matrix (★★☆) \n",
        "(**hint**: mean(axis=,keepdims=))"
      ]
    },
    {
      "cell_type": "code",
      "execution_count": null,
      "metadata": {
        "id": "x7mI_qSC93ba",
        "colab": {
          "base_uri": "https://localhost:8080/"
        },
        "outputId": "df0487f0-5062-4c6c-9dfb-c7c784c22e18"
      },
      "outputs": [
        {
          "output_type": "stream",
          "name": "stdout",
          "text": [
            "[[0.28873405 0.31773676 0.86787413 0.34291632 0.22855149 0.32241496\n",
            "  0.81383105 0.18744678 0.48590674 0.20143645]\n",
            " [0.47033503 0.76070736 0.68952761 0.75669897 0.58809464 0.24652649\n",
            "  0.92787852 0.7660592  0.28057517 0.77969008]\n",
            " [0.56346519 0.34587471 0.46503346 0.60023439 0.5697885  0.97579905\n",
            "  0.62763529 0.04758012 0.92697543 0.98938352]\n",
            " [0.07486347 0.65490836 0.75472256 0.03515254 0.95113469 0.58773145\n",
            "  0.49043836 0.98335793 0.09233946 0.656462  ]\n",
            " [0.3027269  0.49805222 0.51964837 0.72214186 0.06994684 0.15351199\n",
            "  0.695336   0.63047306 0.38626348 0.19925799]]\n",
            "[[-0.11695082 -0.08794812  0.46218926 -0.06276855 -0.17713338 -0.08326991\n",
            "   0.40814618 -0.21823809  0.08022187 -0.20424843]\n",
            " [-0.15627428  0.13409805  0.0629183   0.13008966 -0.03851466 -0.38008282\n",
            "   0.30126922  0.13944989 -0.34603413  0.15308077]\n",
            " [-0.04771177 -0.26530226 -0.14614351 -0.01094258 -0.04138847  0.36462208\n",
            "   0.01645833 -0.56359685  0.31579846  0.37820656]\n",
            " [-0.45324761  0.12679727  0.22661148 -0.49295854  0.4230236   0.05962037\n",
            "  -0.03767272  0.45524685 -0.43577162  0.12835092]\n",
            " [-0.11500897  0.08031635  0.1019125   0.30440599 -0.34778903 -0.26422388\n",
            "   0.27760012  0.21273719 -0.0314724  -0.21847788]]\n"
          ]
        }
      ],
      "source": [
        "b = np.random.rand(5,10) \n",
        "print(b)\n",
        "c = b-b.mean(axis=1, keepdims=True)\n",
        "print(c)"
      ]
    },
    {
      "cell_type": "markdown",
      "metadata": {
        "id": "lvoBvI2w93ba"
      },
      "source": [
        "#### 59. How to sort an array by the nth column? (★★☆) \n",
        "(**hint**: argsort)"
      ]
    },
    {
      "cell_type": "code",
      "execution_count": null,
      "metadata": {
        "id": "NQxkmcw493bb",
        "colab": {
          "base_uri": "https://localhost:8080/"
        },
        "outputId": "f72b851a-47d5-428c-c67a-e45e22ffc6b6"
      },
      "outputs": [
        {
          "output_type": "stream",
          "name": "stdout",
          "text": [
            "[[11 10  5]\n",
            " [ 9  5  2]]\n",
            "[[ 9  5  2]\n",
            " [11 10  5]]\n"
          ]
        }
      ],
      "source": [
        "a = np.array([[11,10,5],[9,5,2]])\n",
        "print(a)\n",
        "print(a[a[:,1].argsort()])"
      ]
    },
    {
      "cell_type": "markdown",
      "metadata": {
        "id": "UsSiu0id93bb"
      },
      "source": [
        "#### 60. How to tell if a given 2D array has null columns? (★★☆) \n",
        "(**hint**: any, ~)"
      ]
    },
    {
      "cell_type": "code",
      "execution_count": null,
      "metadata": {
        "id": "bRPAdHD093bb",
        "colab": {
          "base_uri": "https://localhost:8080/"
        },
        "outputId": "90070ed0-338c-4c63-9027-895d776fb393"
      },
      "outputs": [
        {
          "output_type": "stream",
          "name": "stdout",
          "text": [
            "[[1 2 0 0 2 2 2 0 1 2]\n",
            " [0 2 1 1 2 1 0 2 0 1]\n",
            " [1 0 0 1 2 2 1 1 1 2]]\n",
            "False\n"
          ]
        }
      ],
      "source": [
        "d = np.random.randint(0,3,(3,10))\n",
        "print(d)\n",
        "print((~d.any(axis=0)).any())\n"
      ]
    },
    {
      "cell_type": "markdown",
      "metadata": {
        "id": "0SyWA3au93bc"
      },
      "source": [
        "#### 61. Find the nearest value from a given value in an array (★★☆) \n",
        "(**hint**: np.abs, argmin, flat)"
      ]
    },
    {
      "cell_type": "code",
      "execution_count": null,
      "metadata": {
        "id": "wBLKFxU393be",
        "colab": {
          "base_uri": "https://localhost:8080/"
        },
        "outputId": "3dd4ed4c-c7d4-4854-ab74-624b2cca0b05"
      },
      "outputs": [
        {
          "output_type": "stream",
          "name": "stdout",
          "text": [
            "[0.89205164 0.18431072 0.8423971  0.03868202 0.69327374 0.53736498\n",
            " 0.13479493 0.03475399 0.23345405 0.00563976]\n",
            "0.5373649765147687\n"
          ]
        }
      ],
      "source": [
        "p = np.random.uniform(0,1,10)\n",
        "print(p)\n",
        "n = 0.5\n",
        "\n",
        "m = p.flat[np.abs(p - n).argmin()]\n",
        "print(m)"
      ]
    },
    {
      "cell_type": "markdown",
      "metadata": {
        "id": "kqEJdJp393bf"
      },
      "source": [
        "#### 62. Considering two arrays with shape (1,3) and (3,1), how to compute their sum using an iterator? (★★☆) \n",
        "(**hint**: np.nditer)"
      ]
    },
    {
      "cell_type": "code",
      "execution_count": null,
      "metadata": {
        "id": "9p3QyTMx93bf",
        "colab": {
          "base_uri": "https://localhost:8080/"
        },
        "outputId": "4758ed56-a528-4fa5-b19b-b4c8456c9d54"
      },
      "outputs": [
        {
          "output_type": "stream",
          "name": "stdout",
          "text": [
            "[[0 1 2]\n",
            " [1 2 3]\n",
            " [2 3 4]]\n"
          ]
        }
      ],
      "source": [
        "a = np.arange(3).reshape(1,3)\n",
        "#print(\"a is\", a)\n",
        "b= np.arange(3).reshape(3,1)\n",
        "#print(b)\n",
        "it = np.nditer([a,b,None])\n",
        "for i,j,k in it: k[...] = i + j\n",
        "print(it.operands[2])"
      ]
    },
    {
      "cell_type": "markdown",
      "metadata": {
        "id": "80eYFNxZ93bg"
      },
      "source": [
        "#### 63. Create an array class that has a name attribute (★★☆) \n",
        "(**hint**: class method)"
      ]
    },
    {
      "cell_type": "code",
      "execution_count": null,
      "metadata": {
        "id": "sgTKLycF93bg"
      },
      "outputs": [],
      "source": [
        ""
      ]
    },
    {
      "cell_type": "markdown",
      "metadata": {
        "id": "TTYhjKfF93bh"
      },
      "source": [
        "#### 64. Consider a given vector, how to add 1 to each element indexed by a second vector (be careful with repeated indices)? (★★★) \n",
        "(**hint**: np.bincount | np.add.at)"
      ]
    },
    {
      "cell_type": "code",
      "execution_count": null,
      "metadata": {
        "id": "tF_FZT0a93bh",
        "colab": {
          "base_uri": "https://localhost:8080/"
        },
        "outputId": "eb58a456-f2a0-471f-a0a7-5195934350f3"
      },
      "outputs": [
        {
          "output_type": "stream",
          "name": "stdout",
          "text": [
            "[3 0 2 7 5 6 6 6 4 4 6 9 3 0 8 7 0 2 6 1]\n",
            "[4. 2. 3. 3. 3. 2. 6. 3. 2. 2.]\n"
          ]
        }
      ],
      "source": [
        "Z = np.ones(10)\n",
        "I = np.random.randint(0,len(Z),20)\n",
        "print(I)\n",
        "np.add.at(Z, I, 1)\n",
        "print(Z)"
      ]
    },
    {
      "cell_type": "markdown",
      "metadata": {
        "id": "v9tduOaS93bh"
      },
      "source": [
        "#### 65. How to accumulate elements of a vector (X) to an array (F) based on an index list (I)? (★★★) \n",
        "(**hint**: np.bincount)"
      ]
    },
    {
      "cell_type": "code",
      "execution_count": null,
      "metadata": {
        "id": "2xHN4w3093bi",
        "colab": {
          "base_uri": "https://localhost:8080/"
        },
        "outputId": "b7e2a87a-920b-4d95-b722-31abd497dac8"
      },
      "outputs": [
        {
          "output_type": "stream",
          "name": "stdout",
          "text": [
            "[0. 7. 0. 6. 5. 0. 0. 0. 0. 3.]\n"
          ]
        }
      ],
      "source": [
        "X = [1,2,3,4,5,6]\n",
        "I = [1,3,9,3,4,1]\n",
        "F = np.bincount(I,X)\n",
        "print(F)"
      ]
    },
    {
      "cell_type": "markdown",
      "metadata": {
        "id": "1FMRv58V93bi"
      },
      "source": [
        "#### 66. Considering a (w,h,3) image of (dtype=ubyte), compute the number of unique colors (★★★) \n",
        "(**hint**: np.unique)"
      ]
    },
    {
      "cell_type": "code",
      "execution_count": null,
      "metadata": {
        "id": "r0Ww6uY693bj",
        "colab": {
          "base_uri": "https://localhost:8080/"
        },
        "outputId": "cee777d7-6480-44a7-f3fb-bcf6f9c3cdd9"
      },
      "outputs": [
        {
          "output_type": "stream",
          "name": "stdout",
          "text": [
            "[[[1 3 2]\n",
            "  [3 1 0]\n",
            "  [3 2 0]\n",
            "  ...\n",
            "  [1 3 0]\n",
            "  [0 1 3]\n",
            "  [2 0 3]]\n",
            "\n",
            " [[3 1 1]\n",
            "  [3 2 0]\n",
            "  [1 2 3]\n",
            "  ...\n",
            "  [1 0 3]\n",
            "  [3 1 3]\n",
            "  [2 0 2]]\n",
            "\n",
            " [[3 0 3]\n",
            "  [0 2 1]\n",
            "  [3 0 2]\n",
            "  ...\n",
            "  [0 2 1]\n",
            "  [3 1 1]\n",
            "  [0 3 0]]\n",
            "\n",
            " ...\n",
            "\n",
            " [[2 2 0]\n",
            "  [3 1 2]\n",
            "  [2 0 1]\n",
            "  ...\n",
            "  [0 3 0]\n",
            "  [0 1 0]\n",
            "  [2 3 0]]\n",
            "\n",
            " [[2 3 3]\n",
            "  [1 2 3]\n",
            "  [1 1 3]\n",
            "  ...\n",
            "  [3 0 3]\n",
            "  [2 2 3]\n",
            "  [2 0 0]]\n",
            "\n",
            " [[0 0 3]\n",
            "  [2 3 1]\n",
            "  [2 2 0]\n",
            "  ...\n",
            "  [1 0 0]\n",
            "  [3 3 1]\n",
            "  [0 1 2]]]\n",
            "64\n"
          ]
        }
      ],
      "source": [
        "import numpy as np\n",
        "\n",
        "w, h = 256, 256\n",
        "I = np.random.randint(0, 4, (h, w, 3)).astype(np.ubyte)\n",
        "print(I)\n",
        "colors = np.unique(I.reshape(-1, 3), axis=0)\n",
        "n = len(colors)\n",
        "print(n)"
      ]
    },
    {
      "cell_type": "markdown",
      "metadata": {
        "id": "ckDzmqRy93bj"
      },
      "source": [
        "#### 67. Considering a four dimensions array, how to get sum over the last two axis at once? (★★★) \n",
        "(**hint**: sum(axis=(-2,-1)))"
      ]
    },
    {
      "cell_type": "code",
      "execution_count": null,
      "metadata": {
        "id": "UxJrfxUG93bk",
        "colab": {
          "base_uri": "https://localhost:8080/"
        },
        "outputId": "195813de-21f2-4fd4-b113-657cc558325f"
      },
      "outputs": [
        {
          "output_type": "stream",
          "name": "stdout",
          "text": [
            "[[[[7 0 6 2]\n",
            "   [7 3 0 6]\n",
            "   [8 9 6 6]]\n",
            "\n",
            "  [[2 8 7 6]\n",
            "   [6 9 2 0]\n",
            "   [6 8 0 2]]\n",
            "\n",
            "  [[3 3 2 4]\n",
            "   [6 6 7 0]\n",
            "   [7 9 1 7]]\n",
            "\n",
            "  [[7 0 1 0]\n",
            "   [7 9 7 7]\n",
            "   [1 1 7 3]]]\n",
            "\n",
            "\n",
            " [[[1 5 3 2]\n",
            "   [8 4 2 7]\n",
            "   [0 6 4 3]]\n",
            "\n",
            "  [[4 0 6 3]\n",
            "   [9 5 5 8]\n",
            "   [3 7 5 2]]\n",
            "\n",
            "  [[5 4 9 3]\n",
            "   [4 6 3 2]\n",
            "   [9 1 4 1]]\n",
            "\n",
            "  [[4 5 3 7]\n",
            "   [8 8 3 3]\n",
            "   [3 9 1 4]]]\n",
            "\n",
            "\n",
            " [[[5 2 1 1]\n",
            "   [5 8 7 6]\n",
            "   [3 7 8 6]]\n",
            "\n",
            "  [[5 7 3 2]\n",
            "   [5 1 0 9]\n",
            "   [3 4 0 1]]\n",
            "\n",
            "  [[7 3 1 6]\n",
            "   [0 7 3 4]\n",
            "   [9 7 9 7]]\n",
            "\n",
            "  [[1 9 8 0]\n",
            "   [1 2 4 9]\n",
            "   [2 4 4 8]]]]\n",
            "[[60 56 55 50]\n",
            " [45 57 51 58]\n",
            " [59 40 63 52]]\n"
          ]
        }
      ],
      "source": [
        "f = np.random.randint(0,10,(3,4,3,4))\n",
        "print(f)\n",
        "s = f.sum(axis=(-2,-1))\n",
        "print(s)"
      ]
    },
    {
      "cell_type": "markdown",
      "metadata": {
        "id": "g4rxHbc993bk"
      },
      "source": [
        "#### 68. Considering a one-dimensional vector D, how to compute means of subsets of D using a vector S of same size describing subset  indices? (★★★) \n",
        "(**hint**: np.bincount)"
      ]
    },
    {
      "cell_type": "code",
      "execution_count": null,
      "metadata": {
        "id": "iZzPmt0k93bl"
      },
      "outputs": [],
      "source": [
        ""
      ]
    },
    {
      "cell_type": "markdown",
      "metadata": {
        "id": "zfPjN4Ac93bl"
      },
      "source": [
        "#### 69. How to get the diagonal of a dot product? (★★★) \n",
        "(**hint**: np.diag)"
      ]
    },
    {
      "cell_type": "code",
      "execution_count": null,
      "metadata": {
        "id": "dDivv8as93bo",
        "colab": {
          "base_uri": "https://localhost:8080/"
        },
        "outputId": "1d23f510-56c0-4ca5-ffd3-d34b2cdf6869"
      },
      "outputs": [
        {
          "output_type": "execute_result",
          "data": {
            "text/plain": [
              "array([1.11637187, 1.27816249, 1.20856356, 1.15857131, 0.74759339])"
            ]
          },
          "metadata": {},
          "execution_count": 116
        }
      ],
      "source": [
        "A = np.random.uniform(0,1,(5,5))\n",
        "B = np.random.uniform(0,1,(5,5))\n",
        "np.diag(np.dot(A, B))"
      ]
    },
    {
      "cell_type": "markdown",
      "metadata": {
        "id": "BJxxa88u93bo"
      },
      "source": [
        "#### 70. Consider the vector \\[1, 2, 3, 4, 5\\], how to build a new vector with 3 consecutive zeros interleaved between each value? (★★★) \n",
        "(**hint**: array\\[::4\\])"
      ]
    },
    {
      "cell_type": "code",
      "execution_count": null,
      "metadata": {
        "id": "lF-pjwC693bo",
        "colab": {
          "base_uri": "https://localhost:8080/"
        },
        "outputId": "f9a3ff5a-4d20-4e0c-9fbb-295d1d1321eb"
      },
      "outputs": [
        {
          "output_type": "stream",
          "name": "stdout",
          "text": [
            "[0. 0. 0. 0. 0. 0. 0. 0. 0. 0. 0. 0. 0. 0. 0. 0. 0.]\n",
            "[1. 0. 0. 0. 2. 0. 0. 0. 3. 0. 0. 0. 4. 0. 0. 0. 5.]\n"
          ]
        }
      ],
      "source": [
        "v = np.array([1,2,3,4,5])\n",
        "n = 3\n",
        "d = np.zeros(len(Z) + (len(Z)-1)*(n))\n",
        "#print(d)\n",
        "d[::4] = v\n",
        "print(d)"
      ]
    },
    {
      "cell_type": "markdown",
      "metadata": {
        "id": "tb1cSzH-93bo"
      },
      "source": [
        "#### 71. Consider an array of dimension (5,5,3), how to mulitply it by an array with dimensions (5,5)? (★★★) \n",
        "(**hint**: array\\[:, :, None\\])"
      ]
    },
    {
      "cell_type": "code",
      "execution_count": null,
      "metadata": {
        "collapsed": true,
        "id": "p1jfK1AN93bo",
        "colab": {
          "base_uri": "https://localhost:8080/"
        },
        "outputId": "5e5f5de0-26aa-4ca1-86f3-8c7360eb74f8"
      },
      "outputs": [
        {
          "output_type": "stream",
          "name": "stdout",
          "text": [
            "[[[2. 2. 2.]\n",
            "  [2. 2. 2.]\n",
            "  [2. 2. 2.]\n",
            "  [2. 2. 2.]\n",
            "  [2. 2. 2.]]\n",
            "\n",
            " [[2. 2. 2.]\n",
            "  [2. 2. 2.]\n",
            "  [2. 2. 2.]\n",
            "  [2. 2. 2.]\n",
            "  [2. 2. 2.]]\n",
            "\n",
            " [[2. 2. 2.]\n",
            "  [2. 2. 2.]\n",
            "  [2. 2. 2.]\n",
            "  [2. 2. 2.]\n",
            "  [2. 2. 2.]]\n",
            "\n",
            " [[2. 2. 2.]\n",
            "  [2. 2. 2.]\n",
            "  [2. 2. 2.]\n",
            "  [2. 2. 2.]\n",
            "  [2. 2. 2.]]\n",
            "\n",
            " [[2. 2. 2.]\n",
            "  [2. 2. 2.]\n",
            "  [2. 2. 2.]\n",
            "  [2. 2. 2.]\n",
            "  [2. 2. 2.]]]\n"
          ]
        }
      ],
      "source": [
        "d = np.ones((5,5,3))\n",
        "#print(d)\n",
        "e = 2*np.ones((5,5))\n",
        "#print(e)\n",
        "print(d*e[:,:,None])"
      ]
    },
    {
      "cell_type": "markdown",
      "metadata": {
        "id": "RxHMfoPX93bo"
      },
      "source": [
        "#### 72. How to swap two rows of an array? (★★★) \n",
        "(**hint**: array\\[\\[\\]\\] = array\\[\\[\\]\\])"
      ]
    },
    {
      "cell_type": "code",
      "execution_count": null,
      "metadata": {
        "id": "2uC5Iw8993bo",
        "colab": {
          "base_uri": "https://localhost:8080/"
        },
        "outputId": "8732400e-ab73-49bb-a190-6572074f1a9b"
      },
      "outputs": [
        {
          "output_type": "stream",
          "name": "stdout",
          "text": [
            "[[ 0  1  2  3  4]\n",
            " [ 5  6  7  8  9]\n",
            " [10 11 12 13 14]\n",
            " [15 16 17 18 19]\n",
            " [20 21 22 23 24]]\n",
            "[[ 5  6  7  8  9]\n",
            " [ 0  1  2  3  4]\n",
            " [10 11 12 13 14]\n",
            " [15 16 17 18 19]\n",
            " [20 21 22 23 24]]\n"
          ]
        }
      ],
      "source": [
        "s1 = np.arange(25).reshape(5,5)\n",
        "print(s1)\n",
        "s1[[0,1]]= s1[[1,0]] \n",
        "print(s1)"
      ]
    },
    {
      "cell_type": "markdown",
      "metadata": {
        "id": "x8QSm9Ft93bo"
      },
      "source": [
        "#### 73. Consider a set of 10 triplets describing 10 triangles (with shared vertices), find the set of unique line segments composing all the  triangles (★★★) \n",
        "(**hint**: repeat, np.roll, np.sort, view, np.unique)"
      ]
    },
    {
      "cell_type": "code",
      "execution_count": null,
      "metadata": {
        "id": "BlvEJP-t93b3"
      },
      "outputs": [],
      "source": [
        ""
      ]
    },
    {
      "cell_type": "markdown",
      "metadata": {
        "id": "DhncmJ1W93b3"
      },
      "source": [
        "#### 74. Given an array C that is a bincount, how to produce an array A such that np.bincount(A) == C? (★★★) \n",
        "(**hint**: np.repeat)"
      ]
    },
    {
      "cell_type": "code",
      "execution_count": null,
      "metadata": {
        "id": "M9FmnP_T93b3",
        "colab": {
          "base_uri": "https://localhost:8080/"
        },
        "outputId": "cb5198e9-80e3-4ea8-d2ce-0b128da8d980"
      },
      "outputs": [
        {
          "output_type": "stream",
          "name": "stdout",
          "text": [
            "[1 2 3 4 5 6 7]\n"
          ]
        }
      ],
      "source": [
        "C = np.bincount([1,2,3,4,5,6,7])\n",
        "A = np.repeat(np.arange(len(C)), C)\n",
        "print(A)"
      ]
    },
    {
      "cell_type": "markdown",
      "metadata": {
        "id": "LDTUUuSx93b3"
      },
      "source": [
        "#### 75. How to compute averages using a sliding window over an array? (★★★) \n",
        "(**hint**: np.cumsum)"
      ]
    },
    {
      "cell_type": "code",
      "execution_count": null,
      "metadata": {
        "id": "ED15-s-J93b3"
      },
      "outputs": [],
      "source": [
        ""
      ]
    },
    {
      "cell_type": "markdown",
      "metadata": {
        "id": "RplXnYui93b3"
      },
      "source": [
        "#### 76. Consider a one-dimensional array Z, build a two-dimensional array whose first row is (Z\\[0\\],Z\\[1\\],Z\\[2\\]) and each subsequent row is  shifted by 1 (last row should be (Z\\[-3\\],Z\\[-2\\],Z\\[-1\\]) (★★★) \n",
        "(**hint**: from numpy.lib import stride_tricks)"
      ]
    },
    {
      "cell_type": "code",
      "execution_count": null,
      "metadata": {
        "id": "DddZ_QEj93b3"
      },
      "outputs": [],
      "source": [
        ""
      ]
    },
    {
      "cell_type": "markdown",
      "metadata": {
        "id": "eFDoicF893b3"
      },
      "source": [
        "#### 77. How to negate a boolean, or to change the sign of a float inplace? (★★★) \n",
        "(**hint**: np.logical_not, np.negative)"
      ]
    },
    {
      "cell_type": "code",
      "execution_count": null,
      "metadata": {
        "id": "JKwK6Yxg93b3",
        "colab": {
          "base_uri": "https://localhost:8080/"
        },
        "outputId": "40fcdc25-65a1-48cd-ffed-cfe69aaec4de"
      },
      "outputs": [
        {
          "output_type": "stream",
          "name": "stdout",
          "text": [
            "[0 1 1 1 1 1 1 0 1 1 1 1 0 0 0 1 1 0 1 1 0 1 0 1 0 0 1 0 1 0 1 0 1 0 1 0 1\n",
            " 1 0 0 1 0 0 1 0 0 1 1 0 1 0 1 1 1 0 1 0 1 1 1 0 0 1 1 0 1 1 1 1 0 0 1 0 1\n",
            " 0 0 0 1 0 0 1 0 1 1 1 0 0 1 1 1 0 1 1 0 0 1 0 0 0 0]\n"
          ]
        },
        {
          "output_type": "execute_result",
          "data": {
            "text/plain": [
              "array([1, 0, 0, 0, 0, 0, 0, 1, 0, 0, 0, 0, 1, 1, 1, 0, 0, 1, 0, 0, 1, 0,\n",
              "       1, 0, 1, 1, 0, 1, 0, 1, 0, 1, 0, 1, 0, 1, 0, 0, 1, 1, 0, 1, 1, 0,\n",
              "       1, 1, 0, 0, 1, 0, 1, 0, 0, 0, 1, 0, 1, 0, 0, 0, 1, 1, 0, 0, 1, 0,\n",
              "       0, 0, 0, 1, 1, 0, 1, 0, 1, 1, 1, 0, 1, 1, 0, 1, 0, 0, 0, 1, 1, 0,\n",
              "       0, 0, 1, 0, 0, 1, 1, 0, 1, 1, 1, 1])"
            ]
          },
          "metadata": {},
          "execution_count": 46
        }
      ],
      "source": [
        "n = np.random.randint(0,2,100)\n",
        "print(n)\n",
        "np.logical_not(n, out=n)"
      ]
    },
    {
      "cell_type": "markdown",
      "metadata": {
        "id": "9eP7NtmA93b3"
      },
      "source": [
        "#### 78. Consider 2 sets of points P0,P1 describing lines (2d) and a point p, how to compute distance from p to each line i  (P0\\[i\\],P1\\[i\\])? (★★★)"
      ]
    },
    {
      "cell_type": "code",
      "execution_count": null,
      "metadata": {
        "id": "o6mQnnch93b3"
      },
      "outputs": [],
      "source": [
        ""
      ]
    },
    {
      "cell_type": "markdown",
      "metadata": {
        "id": "4vd0Zeay93b3"
      },
      "source": [
        "#### 79. Consider 2 sets of points P0,P1 describing lines (2d) and a set of points P, how to compute distance from each point j (P\\[j\\]) to each line i (P0\\[i\\],P1\\[i\\])? (★★★)"
      ]
    },
    {
      "cell_type": "code",
      "execution_count": null,
      "metadata": {
        "id": "vSzq2WA893b3"
      },
      "outputs": [],
      "source": [
        "\n"
      ]
    },
    {
      "cell_type": "markdown",
      "metadata": {
        "id": "NIcomF6k93b3"
      },
      "source": [
        "#### 80. Consider an arbitrary array, write a function that extract a subpart with a fixed shape and centered on a given element (pad with a `fill` value when necessary) (★★★) \n",
        "(**hint**: minimum, maximum)"
      ]
    },
    {
      "cell_type": "code",
      "execution_count": null,
      "metadata": {
        "id": "LLYFgQeA93b3"
      },
      "outputs": [],
      "source": [
        ""
      ]
    },
    {
      "cell_type": "markdown",
      "metadata": {
        "id": "Fx5UqWwe93b3"
      },
      "source": [
        "#### 81. Consider an array Z = \\[1,2,3,4,5,6,7,8,9,10,11,12,13,14\\], how to generate an array R = \\[\\[1,2,3,4\\], \\[2,3,4,5\\], \\[3,4,5,6\\], ..., \\[11,12,13,14\\]\\]? (★★★) \n",
        "(**hint**: stride\\_tricks.as\\_strided)"
      ]
    },
    {
      "cell_type": "code",
      "execution_count": null,
      "metadata": {
        "id": "RKdhOLcT93b3",
        "colab": {
          "base_uri": "https://localhost:8080/"
        },
        "outputId": "8b47617e-7351-4e83-8fa3-2dcce9eae017"
      },
      "outputs": [
        {
          "output_type": "stream",
          "name": "stdout",
          "text": [
            "[[ 1  2  3  4]\n",
            " [ 2  3  4  5]\n",
            " [ 3  4  5  6]\n",
            " [ 4  5  6  7]\n",
            " [ 5  6  7  8]\n",
            " [ 6  7  8  9]\n",
            " [ 7  8  9 10]\n",
            " [ 8  9 10 11]\n",
            " [ 9 10 11 12]\n",
            " [10 11 12 13]\n",
            " [11 12 13 14]]\n"
          ]
        }
      ],
      "source": [
        "from numpy.lib.stride_tricks import sliding_window_view\n",
        "Z = np.arange(1, 15, dtype=np.uint32)\n",
        "print(sliding_window_view(Z, window_shape=4))"
      ]
    },
    {
      "cell_type": "markdown",
      "metadata": {
        "id": "G-hQzDhr93b3"
      },
      "source": [
        "#### 82. Compute a matrix rank (★★★) \n",
        "(**hint**: np.linalg.svd) (suggestion: np.linalg.svd)"
      ]
    },
    {
      "cell_type": "code",
      "execution_count": null,
      "metadata": {
        "id": "HR1vFqFA93b3"
      },
      "outputs": [],
      "source": [
        ""
      ]
    },
    {
      "cell_type": "markdown",
      "metadata": {
        "id": "AaRItcX493b3"
      },
      "source": [
        "#### 83. How to find the most frequent value in an array? \n",
        "(**hint**: np.bincount, argmax)"
      ]
    },
    {
      "cell_type": "code",
      "execution_count": null,
      "metadata": {
        "id": "wFQS5RfC93b3",
        "colab": {
          "base_uri": "https://localhost:8080/"
        },
        "outputId": "64b1e8ca-edea-4dad-d695-c55d821935a9"
      },
      "outputs": [
        {
          "output_type": "stream",
          "name": "stdout",
          "text": [
            "[0 3 1 2 2 8 3 3 7 8 9 7 6 8 8 3 5 8 3 6 0 4 0 1 5 1 0 4 7 6]\n",
            "3\n"
          ]
        }
      ],
      "source": [
        "f = np.random.randint(0,10,30)\n",
        "print(f)\n",
        "print(np.bincount(f).argmax())"
      ]
    },
    {
      "cell_type": "markdown",
      "metadata": {
        "id": "H4ZYwdy-93b3"
      },
      "source": [
        "#### 84. Extract all the contiguous 3x3 blocks from a random 10x10 matrix (★★★) \n",
        "(**hint**: stride\\_tricks.as\\_strided)"
      ]
    },
    {
      "cell_type": "code",
      "execution_count": null,
      "metadata": {
        "id": "k3pIDtt_93b3",
        "colab": {
          "base_uri": "https://localhost:8080/"
        },
        "outputId": "3e16a505-305c-4ce6-94ea-e01de5d36a26"
      },
      "outputs": [
        {
          "output_type": "stream",
          "name": "stdout",
          "text": [
            "[[[[2 2 2]\n",
            "   [0 0 4]\n",
            "   [1 4 1]]\n",
            "\n",
            "  [[2 2 3]\n",
            "   [0 4 4]\n",
            "   [4 1 3]]\n",
            "\n",
            "  [[2 3 4]\n",
            "   [4 4 4]\n",
            "   [1 3 4]]\n",
            "\n",
            "  [[3 4 4]\n",
            "   [4 4 1]\n",
            "   [3 4 4]]\n",
            "\n",
            "  [[4 4 3]\n",
            "   [4 1 1]\n",
            "   [4 4 3]]\n",
            "\n",
            "  [[4 3 3]\n",
            "   [1 1 3]\n",
            "   [4 3 0]]\n",
            "\n",
            "  [[3 3 4]\n",
            "   [1 3 3]\n",
            "   [3 0 4]]\n",
            "\n",
            "  [[3 4 2]\n",
            "   [3 3 2]\n",
            "   [0 4 4]]]\n",
            "\n",
            "\n",
            " [[[0 0 4]\n",
            "   [1 4 1]\n",
            "   [2 4 0]]\n",
            "\n",
            "  [[0 4 4]\n",
            "   [4 1 3]\n",
            "   [4 0 0]]\n",
            "\n",
            "  [[4 4 4]\n",
            "   [1 3 4]\n",
            "   [0 0 4]]\n",
            "\n",
            "  [[4 4 1]\n",
            "   [3 4 4]\n",
            "   [0 4 1]]\n",
            "\n",
            "  [[4 1 1]\n",
            "   [4 4 3]\n",
            "   [4 1 2]]\n",
            "\n",
            "  [[1 1 3]\n",
            "   [4 3 0]\n",
            "   [1 2 1]]\n",
            "\n",
            "  [[1 3 3]\n",
            "   [3 0 4]\n",
            "   [2 1 3]]\n",
            "\n",
            "  [[3 3 2]\n",
            "   [0 4 4]\n",
            "   [1 3 1]]]\n",
            "\n",
            "\n",
            " [[[1 4 1]\n",
            "   [2 4 0]\n",
            "   [1 1 4]]\n",
            "\n",
            "  [[4 1 3]\n",
            "   [4 0 0]\n",
            "   [1 4 0]]\n",
            "\n",
            "  [[1 3 4]\n",
            "   [0 0 4]\n",
            "   [4 0 3]]\n",
            "\n",
            "  [[3 4 4]\n",
            "   [0 4 1]\n",
            "   [0 3 1]]\n",
            "\n",
            "  [[4 4 3]\n",
            "   [4 1 2]\n",
            "   [3 1 2]]\n",
            "\n",
            "  [[4 3 0]\n",
            "   [1 2 1]\n",
            "   [1 2 3]]\n",
            "\n",
            "  [[3 0 4]\n",
            "   [2 1 3]\n",
            "   [2 3 3]]\n",
            "\n",
            "  [[0 4 4]\n",
            "   [1 3 1]\n",
            "   [3 3 2]]]\n",
            "\n",
            "\n",
            " [[[2 4 0]\n",
            "   [1 1 4]\n",
            "   [0 0 4]]\n",
            "\n",
            "  [[4 0 0]\n",
            "   [1 4 0]\n",
            "   [0 4 3]]\n",
            "\n",
            "  [[0 0 4]\n",
            "   [4 0 3]\n",
            "   [4 3 2]]\n",
            "\n",
            "  [[0 4 1]\n",
            "   [0 3 1]\n",
            "   [3 2 4]]\n",
            "\n",
            "  [[4 1 2]\n",
            "   [3 1 2]\n",
            "   [2 4 3]]\n",
            "\n",
            "  [[1 2 1]\n",
            "   [1 2 3]\n",
            "   [4 3 2]]\n",
            "\n",
            "  [[2 1 3]\n",
            "   [2 3 3]\n",
            "   [3 2 3]]\n",
            "\n",
            "  [[1 3 1]\n",
            "   [3 3 2]\n",
            "   [2 3 1]]]\n",
            "\n",
            "\n",
            " [[[1 1 4]\n",
            "   [0 0 4]\n",
            "   [4 1 3]]\n",
            "\n",
            "  [[1 4 0]\n",
            "   [0 4 3]\n",
            "   [1 3 2]]\n",
            "\n",
            "  [[4 0 3]\n",
            "   [4 3 2]\n",
            "   [3 2 2]]\n",
            "\n",
            "  [[0 3 1]\n",
            "   [3 2 4]\n",
            "   [2 2 0]]\n",
            "\n",
            "  [[3 1 2]\n",
            "   [2 4 3]\n",
            "   [2 0 3]]\n",
            "\n",
            "  [[1 2 3]\n",
            "   [4 3 2]\n",
            "   [0 3 1]]\n",
            "\n",
            "  [[2 3 3]\n",
            "   [3 2 3]\n",
            "   [3 1 1]]\n",
            "\n",
            "  [[3 3 2]\n",
            "   [2 3 1]\n",
            "   [1 1 0]]]\n",
            "\n",
            "\n",
            " [[[0 0 4]\n",
            "   [4 1 3]\n",
            "   [0 2 4]]\n",
            "\n",
            "  [[0 4 3]\n",
            "   [1 3 2]\n",
            "   [2 4 2]]\n",
            "\n",
            "  [[4 3 2]\n",
            "   [3 2 2]\n",
            "   [4 2 1]]\n",
            "\n",
            "  [[3 2 4]\n",
            "   [2 2 0]\n",
            "   [2 1 1]]\n",
            "\n",
            "  [[2 4 3]\n",
            "   [2 0 3]\n",
            "   [1 1 0]]\n",
            "\n",
            "  [[4 3 2]\n",
            "   [0 3 1]\n",
            "   [1 0 0]]\n",
            "\n",
            "  [[3 2 3]\n",
            "   [3 1 1]\n",
            "   [0 0 0]]\n",
            "\n",
            "  [[2 3 1]\n",
            "   [1 1 0]\n",
            "   [0 0 3]]]\n",
            "\n",
            "\n",
            " [[[4 1 3]\n",
            "   [0 2 4]\n",
            "   [2 0 3]]\n",
            "\n",
            "  [[1 3 2]\n",
            "   [2 4 2]\n",
            "   [0 3 4]]\n",
            "\n",
            "  [[3 2 2]\n",
            "   [4 2 1]\n",
            "   [3 4 4]]\n",
            "\n",
            "  [[2 2 0]\n",
            "   [2 1 1]\n",
            "   [4 4 3]]\n",
            "\n",
            "  [[2 0 3]\n",
            "   [1 1 0]\n",
            "   [4 3 4]]\n",
            "\n",
            "  [[0 3 1]\n",
            "   [1 0 0]\n",
            "   [3 4 4]]\n",
            "\n",
            "  [[3 1 1]\n",
            "   [0 0 0]\n",
            "   [4 4 3]]\n",
            "\n",
            "  [[1 1 0]\n",
            "   [0 0 3]\n",
            "   [4 3 4]]]\n",
            "\n",
            "\n",
            " [[[0 2 4]\n",
            "   [2 0 3]\n",
            "   [0 0 3]]\n",
            "\n",
            "  [[2 4 2]\n",
            "   [0 3 4]\n",
            "   [0 3 0]]\n",
            "\n",
            "  [[4 2 1]\n",
            "   [3 4 4]\n",
            "   [3 0 3]]\n",
            "\n",
            "  [[2 1 1]\n",
            "   [4 4 3]\n",
            "   [0 3 1]]\n",
            "\n",
            "  [[1 1 0]\n",
            "   [4 3 4]\n",
            "   [3 1 2]]\n",
            "\n",
            "  [[1 0 0]\n",
            "   [3 4 4]\n",
            "   [1 2 1]]\n",
            "\n",
            "  [[0 0 0]\n",
            "   [4 4 3]\n",
            "   [2 1 1]]\n",
            "\n",
            "  [[0 0 3]\n",
            "   [4 3 4]\n",
            "   [1 1 4]]]]\n"
          ]
        }
      ],
      "source": [
        "import numpy as np\n",
        "as_strided = np.lib.stride_tricks.as_strided\n",
        "Z = np.random.randint(0,5,(10,10))\n",
        "n = 3\n",
        "i = 1 + (Z.shape[0]-3)\n",
        "j = 1 + (Z.shape[1]-3)\n",
        "C = as_strided(Z, shape=(i, j, n, n), strides=Z.strides + Z.strides)\n",
        "print(C)"
      ]
    },
    {
      "cell_type": "markdown",
      "metadata": {
        "id": "H8V8omk193b3"
      },
      "source": [
        "#### 85. Create a 2D array subclass such that Z\\[i,j\\] == Z\\[j,i\\] (★★★) \n",
        "(**hint**: class method)"
      ]
    },
    {
      "cell_type": "code",
      "execution_count": null,
      "metadata": {
        "id": "_tczSo9h93b3"
      },
      "outputs": [],
      "source": [
        ""
      ]
    },
    {
      "cell_type": "markdown",
      "metadata": {
        "id": "YZliU8iV93b3"
      },
      "source": [
        "#### 86. Consider a set of p matrices wich shape (n,n) and a set of p vectors with shape (n,1). How to compute the sum of of the p matrix products at once? (result has shape (n,1)) (★★★) \n",
        "(**hint**: np.tensordot)"
      ]
    },
    {
      "cell_type": "code",
      "execution_count": null,
      "metadata": {
        "id": "7mfV75kQ93b3"
      },
      "outputs": [],
      "source": [
        ""
      ]
    },
    {
      "cell_type": "markdown",
      "metadata": {
        "id": "Y23UVL9F93b3"
      },
      "source": [
        "#### 87. Consider a 16x16 array, how to get the block-sum (block size is 4x4)? (★★★) \n",
        "(**hint**: np.add.reduceat)"
      ]
    },
    {
      "cell_type": "code",
      "execution_count": null,
      "metadata": {
        "id": "lqcfxLwb93b3",
        "colab": {
          "base_uri": "https://localhost:8080/"
        },
        "outputId": "748f03b2-969f-4c45-b2ce-035e7f16855f"
      },
      "outputs": [
        {
          "output_type": "stream",
          "name": "stdout",
          "text": [
            "[[16. 16. 16. 16.]\n",
            " [16. 16. 16. 16.]\n",
            " [16. 16. 16. 16.]\n",
            " [16. 16. 16. 16.]]\n"
          ]
        }
      ],
      "source": [
        "z = np.ones((16,16))\n",
        "k=4\n",
        "s = np.add.reduceat(np.add.reduceat(z, np.arange(0, z.shape[0], k), axis=0),np.arange(0, z.shape[1], k), axis=1)\n",
        "print(s)"
      ]
    },
    {
      "cell_type": "markdown",
      "metadata": {
        "id": "uFeQD9Pu93b3"
      },
      "source": [
        "#### 88. How to implement the Game of Life using numpy arrays? (★★★)"
      ]
    },
    {
      "cell_type": "code",
      "execution_count": null,
      "metadata": {
        "id": "5BBb_7Zq93b3"
      },
      "outputs": [],
      "source": [
        ""
      ]
    },
    {
      "cell_type": "markdown",
      "metadata": {
        "id": "2ensC26P93b3"
      },
      "source": [
        "#### 89. How to get the n largest values of an array (★★★) \n",
        "(**hint**: np.argsort | np.argpartition)"
      ]
    },
    {
      "cell_type": "code",
      "execution_count": null,
      "metadata": {
        "id": "nNfF6qaU93b3",
        "colab": {
          "base_uri": "https://localhost:8080/"
        },
        "outputId": "6be11676-fd19-41b6-848d-490709ea2d10"
      },
      "outputs": [
        {
          "output_type": "stream",
          "name": "stdout",
          "text": [
            "[9990 9991 9992 9993 9994 9995 9996 9997 9998 9999]\n"
          ]
        }
      ],
      "source": [
        "Z = np.arange(10000)\n",
        "np.random.shuffle(Z)\n",
        "n = 10\n",
        "print (Z[np.argsort(Z)[-n:]])"
      ]
    },
    {
      "cell_type": "markdown",
      "metadata": {
        "id": "9cRvh6_393cH"
      },
      "source": [
        "#### 90. Given an arbitrary number of vectors, build the cartesian product (every combinations of every item) (★★★) \n",
        "(**hint**: np.indices)"
      ]
    },
    {
      "cell_type": "code",
      "execution_count": null,
      "metadata": {
        "scrolled": true,
        "id": "kBdCznfb93cH"
      },
      "outputs": [],
      "source": [
        ""
      ]
    },
    {
      "cell_type": "markdown",
      "metadata": {
        "id": "Mue6bgBv93cH"
      },
      "source": [
        "#### 91. How to create a record array from a regular array? (★★★) \n",
        "(**hint**: np.core.records.fromarrays)"
      ]
    },
    {
      "cell_type": "code",
      "execution_count": null,
      "metadata": {
        "id": "xk3ZTuQ593cH",
        "colab": {
          "base_uri": "https://localhost:8080/"
        },
        "outputId": "8a55358b-45ff-46e9-a6d1-a208d55f8888"
      },
      "outputs": [
        {
          "output_type": "stream",
          "name": "stdout",
          "text": [
            "[['Good' '1.5' '3']\n",
            " ['Morning' '2.3' '2']]\n",
            "[(b'Good', 1.5, 3) (b'Morning', 2.3, 2)]\n"
          ]
        }
      ],
      "source": [
        "Z = np.array([(\"Good\", 1.5, 3),\n",
        "              (\"Morning\", 2.3, 2)])\n",
        "print(Z)\n",
        "y = np.core.records.fromarrays(Z.T,\n",
        "                               names='col1, col2, col3',\n",
        "                               formats = 'S8, f8, i8')\n",
        "print(y)"
      ]
    },
    {
      "cell_type": "markdown",
      "metadata": {
        "id": "IZ2n-2SR93cH"
      },
      "source": [
        "#### 92. Consider a large vector Z, compute Z to the power of 3 using 3 different methods (★★★) \n",
        "(**hint**: np.power, \\*, np.einsum)"
      ]
    },
    {
      "cell_type": "code",
      "execution_count": null,
      "metadata": {
        "id": "av5yfhDB93cH",
        "colab": {
          "base_uri": "https://localhost:8080/"
        },
        "outputId": "806f501d-7641-4926-9ce2-df8c1be2f4ed"
      },
      "outputs": [
        {
          "output_type": "stream",
          "name": "stdout",
          "text": [
            "1 loop, best of 5: 3.69 s per loop\n",
            "10 loops, best of 5: 138 ms per loop\n",
            "10 loops, best of 5: 122 ms per loop\n"
          ]
        }
      ],
      "source": [
        "Z = np.random.rand(int(5e7))\n",
        "\n",
        "%timeit np.power(Z,3)\n",
        "%timeit Z*Z*Z\n",
        "%timeit np.einsum('i,i,i->i',Z,Z,Z)"
      ]
    },
    {
      "cell_type": "markdown",
      "metadata": {
        "id": "U0k9UZpZ93cH"
      },
      "source": [
        "#### 93. Consider two arrays A and B of shape (8,3) and (2,2). How to find rows of A that contain elements of each row of B regardless of the order of the elements in B? (★★★) \n",
        "(**hint**: np.where)"
      ]
    },
    {
      "cell_type": "code",
      "execution_count": null,
      "metadata": {
        "id": "zrObVP6-93cH"
      },
      "outputs": [],
      "source": [
        ""
      ]
    },
    {
      "cell_type": "markdown",
      "metadata": {
        "id": "I_wGtzIX93cH"
      },
      "source": [
        "#### 94. Considering a 10x3 matrix, extract rows with unequal values (e.g. \\[2,2,3\\]) (★★★)"
      ]
    },
    {
      "cell_type": "code",
      "execution_count": null,
      "metadata": {
        "id": "1siRGVy793cH",
        "colab": {
          "base_uri": "https://localhost:8080/"
        },
        "outputId": "f6241e3e-b59c-451f-853b-acefcbd87316"
      },
      "outputs": [
        {
          "output_type": "stream",
          "name": "stdout",
          "text": [
            "[[2 4 0]\n",
            " [1 4 3]\n",
            " [3 3 0]\n",
            " [3 4 1]\n",
            " [3 1 3]\n",
            " [2 4 2]\n",
            " [0 1 0]\n",
            " [1 3 0]\n",
            " [0 1 0]\n",
            " [4 2 3]]\n",
            "[[2 4 0]\n",
            " [1 4 3]\n",
            " [3 3 0]\n",
            " [3 4 1]\n",
            " [3 1 3]\n",
            " [2 4 2]\n",
            " [0 1 0]\n",
            " [1 3 0]\n",
            " [0 1 0]\n",
            " [4 2 3]]\n"
          ]
        }
      ],
      "source": [
        "Z = np.random.randint(0,5,(10,3))\n",
        "print(Z)\n",
        "U = Z[Z.max(axis=1) != Z.min(axis=1),:]\n",
        "print(U)"
      ]
    },
    {
      "cell_type": "markdown",
      "metadata": {
        "id": "iZGmhZnt93cH"
      },
      "source": [
        "#### 95. Convert a vector of ints into a matrix binary representation (★★★) \n",
        "(**hint**: np.unpackbits)"
      ]
    },
    {
      "cell_type": "code",
      "execution_count": null,
      "metadata": {
        "id": "IEcikGBK93cH",
        "colab": {
          "base_uri": "https://localhost:8080/"
        },
        "outputId": "991c6beb-356a-4331-c6d7-011b67905417"
      },
      "outputs": [
        {
          "output_type": "stream",
          "name": "stdout",
          "text": [
            "[[0 0 0 0 0 0 0 0]\n",
            " [0 0 0 0 0 0 0 1]\n",
            " [0 0 0 0 0 0 1 0]\n",
            " [0 0 0 0 0 0 1 1]\n",
            " [0 0 0 0 1 1 1 1]\n",
            " [0 0 0 1 0 0 0 0]\n",
            " [0 0 1 0 0 0 0 0]\n",
            " [0 1 0 0 0 0 0 0]\n",
            " [1 0 0 0 0 0 0 0]]\n"
          ]
        }
      ],
      "source": [
        "I = np.array([0, 1, 2, 3, 15, 16, 32, 64, 128], dtype=np.uint8)\n",
        "print(np.unpackbits(I[:, np.newaxis], axis=1))"
      ]
    },
    {
      "cell_type": "markdown",
      "metadata": {
        "id": "jhl9Vh1F93cH"
      },
      "source": [
        "#### 96. Given a two dimensional array, how to extract unique rows? (★★★) \n",
        "(**hint**: np.ascontiguousarray)"
      ]
    },
    {
      "cell_type": "code",
      "execution_count": null,
      "metadata": {
        "id": "VhlybOqs93cH"
      },
      "outputs": [],
      "source": [
        ""
      ]
    },
    {
      "cell_type": "markdown",
      "metadata": {
        "id": "Tf38EjfZ93cH"
      },
      "source": [
        "#### 97. Considering 2 vectors A & B, write the einsum equivalent of inner, outer, sum, and mul function (★★★) \n",
        "(**hint**: np.einsum)"
      ]
    },
    {
      "cell_type": "code",
      "execution_count": null,
      "metadata": {
        "id": "JMxPz1UF93cH",
        "colab": {
          "base_uri": "https://localhost:8080/"
        },
        "outputId": "02a7a8fa-f810-4d80-d78b-c498d558c013"
      },
      "outputs": [
        {
          "output_type": "execute_result",
          "data": {
            "text/plain": [
              "array([0.02091998, 0.59164523, 0.34698414, 0.63150242, 0.00092991,\n",
              "       0.20642474, 0.119511  , 0.06026653, 0.17866469, 0.05758462])"
            ]
          },
          "metadata": {},
          "execution_count": 7
        }
      ],
      "source": [
        "A = np.random.uniform(0,1,10)\n",
        "B = np.random.uniform(0,1,10)\n",
        "\n",
        "np.einsum('i,i', A, B)    \n",
        "np.einsum('i,j->ij', A, B)   \n",
        "np.einsum('i->', A)       \n",
        "np.einsum('i,i->i', A, B) "
      ]
    },
    {
      "cell_type": "markdown",
      "metadata": {
        "id": "9O_JaK8393cH"
      },
      "source": [
        "#### 98. Considering a path described by two vectors (X,Y), how to sample it using equidistant samples (★★★)? \n",
        "(**hint**: np.cumsum, np.interp)"
      ]
    },
    {
      "cell_type": "code",
      "execution_count": null,
      "metadata": {
        "collapsed": true,
        "id": "ul374SdK93cH"
      },
      "outputs": [],
      "source": [
        ""
      ]
    },
    {
      "cell_type": "markdown",
      "metadata": {
        "id": "-upmmgWc93cH"
      },
      "source": [
        "#### 99. Given an integer n and a 2D array X, select from X the rows which can be interpreted as draws from a multinomial distribution with n degrees, i.e., the rows which only contain integers and which sum to n. (★★★) \n",
        "(**hint**: np.logical\\_and.reduce, np.mod)"
      ]
    },
    {
      "cell_type": "code",
      "execution_count": null,
      "metadata": {
        "id": "-tDKabI793cH",
        "colab": {
          "base_uri": "https://localhost:8080/"
        },
        "outputId": "f90dc69d-d9c3-4ad2-f7b1-5a44eaddc795"
      },
      "outputs": [
        {
          "output_type": "stream",
          "name": "stdout",
          "text": [
            "[[2. 0. 1. 1.]]\n"
          ]
        }
      ],
      "source": [
        "import numpy as np\n",
        "X = np.asarray([[1.0, 0.0, 3.0, 8.0],\n",
        "                [2.0, 0.0, 1.0, 1.0],\n",
        "                [1.5, 2.5, 1.0, 0.0]])\n",
        "n = 4\n",
        "M = np.logical_and.reduce(np.mod(X, 1) == 0, axis=-1)\n",
        "M &= (X.sum(axis=-1) == n)\n",
        "print(X[M])"
      ]
    },
    {
      "cell_type": "markdown",
      "metadata": {
        "id": "alsm9zOB93cH"
      },
      "source": [
        "#### 100. Compute bootstrapped 95% confidence intervals for the mean of a 1D array X (i.e., resample the elements of an array with replacement N times, compute the mean of each sample, and then compute percentiles over the means). (★★★) \n",
        "(**hint**: np.percentile)"
      ]
    },
    {
      "cell_type": "code",
      "execution_count": null,
      "metadata": {
        "id": "o0udF84E93cH",
        "colab": {
          "base_uri": "https://localhost:8080/"
        },
        "outputId": "b8efbe1e-81a0-441a-b813-4a1cabfecc4a"
      },
      "outputs": [
        {
          "output_type": "stream",
          "name": "stdout",
          "text": [
            "[-0.3133429  0.0849153]\n"
          ]
        }
      ],
      "source": [
        "X = np.random.randn(100)\n",
        "#print(X)\n",
        "N = 1000 \n",
        "idx = np.random.randint(0, X.size, (N, X.size))\n",
        "means = X[idx].mean(axis=1)\n",
        "confint = np.percentile(means, [2.5, 97.5])\n",
        "print(confint)"
      ]
    }
  ],
  "metadata": {
    "kernelspec": {
      "display_name": "Python 3",
      "language": "python",
      "name": "python3"
    },
    "language_info": {
      "codemirror_mode": {
        "name": "ipython",
        "version": 3
      },
      "file_extension": ".py",
      "mimetype": "text/x-python",
      "name": "python",
      "nbconvert_exporter": "python",
      "pygments_lexer": "ipython3",
      "version": "3.8.3"
    },
    "colab": {
      "name": "Numpy_tasks.ipynb",
      "provenance": [],
      "collapsed_sections": [
        "NwPOHcZi93bQ",
        "XPxHI66j93bX",
        "80eYFNxZ93bg",
        "jhl9Vh1F93cH"
      ],
      "include_colab_link": true
    }
  },
  "nbformat": 4,
  "nbformat_minor": 0
}